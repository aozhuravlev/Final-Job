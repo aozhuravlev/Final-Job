{
 "cells": [
  {
   "cell_type": "code",
   "execution_count": 3,
   "metadata": {},
   "outputs": [
    {
     "name": "stdout",
     "output_type": "stream",
     "text": [
      "pygame 2.6.0 (SDL 2.28.4, Python 3.11.5)\n",
      "Hello from the pygame community. https://www.pygame.org/contribute.html\n"
     ]
    }
   ],
   "source": [
    "from gtts import gTTS\n",
    "import pygame"
   ]
  },
  {
   "cell_type": "code",
   "execution_count": 5,
   "metadata": {},
   "outputs": [
    {
     "name": "stdout",
     "output_type": "stream",
     "text": [
      "Аудио файл успешно сохранён как finished_.mp3\n"
     ]
    }
   ],
   "source": [
    "\n",
    "# Текст, который нужно преобразовать в речь\n",
    "text = \"Ура! Я всё закончила мой господин. Пойду расслабляться с вашего позволения.\"\n",
    "\n",
    "# Язык речи (например, 'ru' для русского)\n",
    "language = 'ru'\n",
    "\n",
    "# Создаем объект для преобразования текста в речь\n",
    "tts = gTTS(text=text, lang=language, slow=False)\n",
    "\n",
    "filename =\"finished_.mp3\"\n",
    "# Сохраняем результат в файл mp3\n",
    "tts.save(filename)\n",
    "\n",
    "print(f\"Аудио файл успешно сохранён как {filename}\")"
   ]
  },
  {
   "cell_type": "code",
   "execution_count": 6,
   "metadata": {},
   "outputs": [],
   "source": [
    "\n",
    "\n",
    "# Инициализация pygame\n",
    "pygame.mixer.init()\n",
    "\n",
    "# Загрузка MP3-файла\n",
    "pygame.mixer.music.load(\"finished_.mp3\")\n",
    "\n",
    "# Воспроизведение аудиофайла\n",
    "pygame.mixer.music.play()\n",
    "\n",
    "# Ожидание завершения воспроизведения\n",
    "while pygame.mixer.music.get_busy():\n",
    "    pygame.time.Clock().tick(10)"
   ]
  },
  {
   "cell_type": "code",
   "execution_count": 2,
   "metadata": {},
   "outputs": [
    {
     "name": "stdout",
     "output_type": "stream",
     "text": [
      "2 min 45 sec\n"
     ]
    }
   ],
   "source": [
    "total_time = 165\n",
    "seconds = total_time % 60\n",
    "minutes = total_time // 60\n",
    "print(f'{minutes} min {seconds} sec')"
   ]
  },
  {
   "cell_type": "code",
   "execution_count": null,
   "metadata": {},
   "outputs": [],
   "source": []
  }
 ],
 "metadata": {
  "kernelspec": {
   "display_name": "base",
   "language": "python",
   "name": "python3"
  },
  "language_info": {
   "codemirror_mode": {
    "name": "ipython",
    "version": 3
   },
   "file_extension": ".py",
   "mimetype": "text/x-python",
   "name": "python",
   "nbconvert_exporter": "python",
   "pygments_lexer": "ipython3",
   "version": "3.11.5"
  }
 },
 "nbformat": 4,
 "nbformat_minor": 2
}
