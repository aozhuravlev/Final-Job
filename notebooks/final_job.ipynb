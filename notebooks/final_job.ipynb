{
 "cells": [
  {
   "cell_type": "markdown",
   "metadata": {},
   "source": [
    "# 0. Imports"
   ]
  },
  {
   "cell_type": "code",
   "execution_count": 11,
   "metadata": {},
   "outputs": [],
   "source": [
    "import pandas as pd\n",
    "import dill\n",
    "import csv\n",
    "import requests\n",
    "import datetime\n",
    "import holidays\n",
    "import pygame\n",
    "import time\n",
    "import os\n",
    "\n",
    "\n",
    "from sklearn.preprocessing import StandardScaler\n",
    "from sklearn.preprocessing import OneHotEncoder\n",
    "from sklearn.metrics import roc_auc_score\n",
    "from sklearn.model_selection import train_test_split, cross_val_score\n",
    "from xgboost import XGBClassifier\n"
   ]
  },
  {
   "cell_type": "markdown",
   "metadata": {},
   "source": [
    "# 1. Loading Data, Type Casting, Binarizing Target, and Merging Datasets"
   ]
  },
  {
   "cell_type": "markdown",
   "metadata": {},
   "source": [
    "## 1.1 Loading Data"
   ]
  },
  {
   "cell_type": "markdown",
   "metadata": {},
   "source": [
    "## 1.1.1 Hits"
   ]
  },
  {
   "cell_type": "code",
   "execution_count": 12,
   "metadata": {},
   "outputs": [
    {
     "data": {
      "text/plain": [
       "(15726470, 11)"
      ]
     },
     "execution_count": 12,
     "metadata": {},
     "output_type": "execute_result"
    }
   ],
   "source": [
    "ga_hits = os.path.join('..', 'data/csv/ga_hits.csv')\n",
    "\n",
    "df_hits = pd.read_csv(\n",
    "    ga_hits,\n",
    "    dtype={\n",
    "        \"hit_time\": \"float64\", \n",
    "        \"hit_number\":\"Int32\"\n",
    "        }\n",
    ")\n",
    "\n",
    "df_hits.shape"
   ]
  },
  {
   "cell_type": "code",
   "execution_count": 13,
   "metadata": {},
   "outputs": [],
   "source": [
    "df_hits = df_hits[[\"session_id\", \"event_action\"]]"
   ]
  },
  {
   "cell_type": "code",
   "execution_count": 14,
   "metadata": {},
   "outputs": [
    {
     "data": {
      "text/html": [
       "<div>\n",
       "<style scoped>\n",
       "    .dataframe tbody tr th:only-of-type {\n",
       "        vertical-align: middle;\n",
       "    }\n",
       "\n",
       "    .dataframe tbody tr th {\n",
       "        vertical-align: top;\n",
       "    }\n",
       "\n",
       "    .dataframe thead th {\n",
       "        text-align: right;\n",
       "    }\n",
       "</style>\n",
       "<table border=\"1\" class=\"dataframe\">\n",
       "  <thead>\n",
       "    <tr style=\"text-align: right;\">\n",
       "      <th></th>\n",
       "      <th>session_id</th>\n",
       "      <th>event_action</th>\n",
       "    </tr>\n",
       "  </thead>\n",
       "  <tbody>\n",
       "    <tr>\n",
       "      <th>0</th>\n",
       "      <td>5639623078712724064.1640254056.1640254056</td>\n",
       "      <td>quiz_show</td>\n",
       "    </tr>\n",
       "    <tr>\n",
       "      <th>1</th>\n",
       "      <td>7750352294969115059.1640271109.1640271109</td>\n",
       "      <td>quiz_show</td>\n",
       "    </tr>\n",
       "    <tr>\n",
       "      <th>2</th>\n",
       "      <td>885342191847998240.1640235807.1640235807</td>\n",
       "      <td>quiz_show</td>\n",
       "    </tr>\n",
       "    <tr>\n",
       "      <th>3</th>\n",
       "      <td>142526202120934167.1640211014.1640211014</td>\n",
       "      <td>quiz_show</td>\n",
       "    </tr>\n",
       "    <tr>\n",
       "      <th>4</th>\n",
       "      <td>3450086108837475701.1640265078.1640265078</td>\n",
       "      <td>quiz_show</td>\n",
       "    </tr>\n",
       "  </tbody>\n",
       "</table>\n",
       "</div>"
      ],
      "text/plain": [
       "                                  session_id event_action\n",
       "0  5639623078712724064.1640254056.1640254056    quiz_show\n",
       "1  7750352294969115059.1640271109.1640271109    quiz_show\n",
       "2   885342191847998240.1640235807.1640235807    quiz_show\n",
       "3   142526202120934167.1640211014.1640211014    quiz_show\n",
       "4  3450086108837475701.1640265078.1640265078    quiz_show"
      ]
     },
     "execution_count": 14,
     "metadata": {},
     "output_type": "execute_result"
    }
   ],
   "source": [
    "df_hits.head()"
   ]
  },
  {
   "cell_type": "code",
   "execution_count": 15,
   "metadata": {},
   "outputs": [
    {
     "name": "stdout",
     "output_type": "stream",
     "text": [
      "<class 'pandas.core.frame.DataFrame'>\n",
      "RangeIndex: 15726470 entries, 0 to 15726469\n",
      "Data columns (total 2 columns):\n",
      " #   Column        Dtype \n",
      "---  ------        ----- \n",
      " 0   session_id    object\n",
      " 1   event_action  object\n",
      "dtypes: object(2)\n",
      "memory usage: 240.0+ MB\n"
     ]
    }
   ],
   "source": [
    "df_hits.info()"
   ]
  },
  {
   "cell_type": "markdown",
   "metadata": {},
   "source": [
    "## 1.1.2 Sessions"
   ]
  },
  {
   "cell_type": "code",
   "execution_count": 16,
   "metadata": {},
   "outputs": [
    {
     "data": {
      "text/plain": [
       "(1860042, 18)"
      ]
     },
     "execution_count": 16,
     "metadata": {},
     "output_type": "execute_result"
    }
   ],
   "source": [
    "ga_sessions = os.path.join('..', 'data/csv/ga_sessions.csv')\n",
    "df_sessions = pd.read_csv(\n",
    "    ga_sessions,\n",
    "    dtype={\"visit_number\":\"Int32\"},\n",
    "    low_memory=False\n",
    ")\n",
    "\n",
    "df_sessions.shape"
   ]
  },
  {
   "cell_type": "code",
   "execution_count": 17,
   "metadata": {},
   "outputs": [
    {
     "data": {
      "text/html": [
       "<div>\n",
       "<style scoped>\n",
       "    .dataframe tbody tr th:only-of-type {\n",
       "        vertical-align: middle;\n",
       "    }\n",
       "\n",
       "    .dataframe tbody tr th {\n",
       "        vertical-align: top;\n",
       "    }\n",
       "\n",
       "    .dataframe thead th {\n",
       "        text-align: right;\n",
       "    }\n",
       "</style>\n",
       "<table border=\"1\" class=\"dataframe\">\n",
       "  <thead>\n",
       "    <tr style=\"text-align: right;\">\n",
       "      <th></th>\n",
       "      <th>session_id</th>\n",
       "      <th>client_id</th>\n",
       "      <th>visit_date</th>\n",
       "      <th>visit_time</th>\n",
       "      <th>visit_number</th>\n",
       "      <th>utm_source</th>\n",
       "      <th>utm_medium</th>\n",
       "      <th>utm_campaign</th>\n",
       "      <th>utm_adcontent</th>\n",
       "      <th>utm_keyword</th>\n",
       "      <th>device_category</th>\n",
       "      <th>device_os</th>\n",
       "      <th>device_brand</th>\n",
       "      <th>device_model</th>\n",
       "      <th>device_screen_resolution</th>\n",
       "      <th>device_browser</th>\n",
       "      <th>geo_country</th>\n",
       "      <th>geo_city</th>\n",
       "    </tr>\n",
       "  </thead>\n",
       "  <tbody>\n",
       "    <tr>\n",
       "      <th>0</th>\n",
       "      <td>9055434745589932991.1637753792.1637753792</td>\n",
       "      <td>2108382700.1637753791</td>\n",
       "      <td>2021-11-24</td>\n",
       "      <td>14:36:32</td>\n",
       "      <td>1</td>\n",
       "      <td>ZpYIoDJMcFzVoPFsHGJL</td>\n",
       "      <td>banner</td>\n",
       "      <td>LEoPHuyFvzoNfnzGgfcd</td>\n",
       "      <td>vCIpmpaGBnIQhyYNkXqp</td>\n",
       "      <td>puhZPIYqKXeFPaUviSjo</td>\n",
       "      <td>mobile</td>\n",
       "      <td>Android</td>\n",
       "      <td>Huawei</td>\n",
       "      <td>NaN</td>\n",
       "      <td>360x720</td>\n",
       "      <td>Chrome</td>\n",
       "      <td>Russia</td>\n",
       "      <td>Zlatoust</td>\n",
       "    </tr>\n",
       "    <tr>\n",
       "      <th>1</th>\n",
       "      <td>905544597018549464.1636867290.1636867290</td>\n",
       "      <td>210838531.1636867288</td>\n",
       "      <td>2021-11-14</td>\n",
       "      <td>08:21:30</td>\n",
       "      <td>1</td>\n",
       "      <td>MvfHsxITijuriZxsqZqt</td>\n",
       "      <td>cpm</td>\n",
       "      <td>FTjNLDyTrXaWYgZymFkV</td>\n",
       "      <td>xhoenQgDQsgfEPYNPwKO</td>\n",
       "      <td>IGUCNvHlhfHpROGclCit</td>\n",
       "      <td>mobile</td>\n",
       "      <td>Android</td>\n",
       "      <td>Samsung</td>\n",
       "      <td>NaN</td>\n",
       "      <td>385x854</td>\n",
       "      <td>Samsung Internet</td>\n",
       "      <td>Russia</td>\n",
       "      <td>Moscow</td>\n",
       "    </tr>\n",
       "    <tr>\n",
       "      <th>2</th>\n",
       "      <td>9055446045651783499.1640648526.1640648526</td>\n",
       "      <td>2108385331.1640648523</td>\n",
       "      <td>2021-12-28</td>\n",
       "      <td>02:42:06</td>\n",
       "      <td>1</td>\n",
       "      <td>ZpYIoDJMcFzVoPFsHGJL</td>\n",
       "      <td>banner</td>\n",
       "      <td>LEoPHuyFvzoNfnzGgfcd</td>\n",
       "      <td>vCIpmpaGBnIQhyYNkXqp</td>\n",
       "      <td>puhZPIYqKXeFPaUviSjo</td>\n",
       "      <td>mobile</td>\n",
       "      <td>Android</td>\n",
       "      <td>Huawei</td>\n",
       "      <td>NaN</td>\n",
       "      <td>360x720</td>\n",
       "      <td>Chrome</td>\n",
       "      <td>Russia</td>\n",
       "      <td>Krasnoyarsk</td>\n",
       "    </tr>\n",
       "    <tr>\n",
       "      <th>3</th>\n",
       "      <td>9055447046360770272.1622255328.1622255328</td>\n",
       "      <td>2108385564.1622255328</td>\n",
       "      <td>2021-05-29</td>\n",
       "      <td>05:00:00</td>\n",
       "      <td>1</td>\n",
       "      <td>kjsLglQLzykiRbcDiGcD</td>\n",
       "      <td>cpc</td>\n",
       "      <td>NaN</td>\n",
       "      <td>NOBKLgtuvqYWkXQHeYWM</td>\n",
       "      <td>NaN</td>\n",
       "      <td>mobile</td>\n",
       "      <td>NaN</td>\n",
       "      <td>Xiaomi</td>\n",
       "      <td>NaN</td>\n",
       "      <td>393x786</td>\n",
       "      <td>Chrome</td>\n",
       "      <td>Russia</td>\n",
       "      <td>Moscow</td>\n",
       "    </tr>\n",
       "    <tr>\n",
       "      <th>4</th>\n",
       "      <td>9055447046360770272.1622255345.1622255345</td>\n",
       "      <td>2108385564.1622255328</td>\n",
       "      <td>2021-05-29</td>\n",
       "      <td>05:00:00</td>\n",
       "      <td>2</td>\n",
       "      <td>kjsLglQLzykiRbcDiGcD</td>\n",
       "      <td>cpc</td>\n",
       "      <td>NaN</td>\n",
       "      <td>NaN</td>\n",
       "      <td>NaN</td>\n",
       "      <td>mobile</td>\n",
       "      <td>NaN</td>\n",
       "      <td>Xiaomi</td>\n",
       "      <td>NaN</td>\n",
       "      <td>393x786</td>\n",
       "      <td>Chrome</td>\n",
       "      <td>Russia</td>\n",
       "      <td>Moscow</td>\n",
       "    </tr>\n",
       "  </tbody>\n",
       "</table>\n",
       "</div>"
      ],
      "text/plain": [
       "                                  session_id              client_id  \\\n",
       "0  9055434745589932991.1637753792.1637753792  2108382700.1637753791   \n",
       "1   905544597018549464.1636867290.1636867290   210838531.1636867288   \n",
       "2  9055446045651783499.1640648526.1640648526  2108385331.1640648523   \n",
       "3  9055447046360770272.1622255328.1622255328  2108385564.1622255328   \n",
       "4  9055447046360770272.1622255345.1622255345  2108385564.1622255328   \n",
       "\n",
       "   visit_date visit_time  visit_number            utm_source utm_medium  \\\n",
       "0  2021-11-24   14:36:32             1  ZpYIoDJMcFzVoPFsHGJL     banner   \n",
       "1  2021-11-14   08:21:30             1  MvfHsxITijuriZxsqZqt        cpm   \n",
       "2  2021-12-28   02:42:06             1  ZpYIoDJMcFzVoPFsHGJL     banner   \n",
       "3  2021-05-29   05:00:00             1  kjsLglQLzykiRbcDiGcD        cpc   \n",
       "4  2021-05-29   05:00:00             2  kjsLglQLzykiRbcDiGcD        cpc   \n",
       "\n",
       "           utm_campaign         utm_adcontent           utm_keyword  \\\n",
       "0  LEoPHuyFvzoNfnzGgfcd  vCIpmpaGBnIQhyYNkXqp  puhZPIYqKXeFPaUviSjo   \n",
       "1  FTjNLDyTrXaWYgZymFkV  xhoenQgDQsgfEPYNPwKO  IGUCNvHlhfHpROGclCit   \n",
       "2  LEoPHuyFvzoNfnzGgfcd  vCIpmpaGBnIQhyYNkXqp  puhZPIYqKXeFPaUviSjo   \n",
       "3                   NaN  NOBKLgtuvqYWkXQHeYWM                   NaN   \n",
       "4                   NaN                   NaN                   NaN   \n",
       "\n",
       "  device_category device_os device_brand device_model  \\\n",
       "0          mobile   Android       Huawei          NaN   \n",
       "1          mobile   Android      Samsung          NaN   \n",
       "2          mobile   Android       Huawei          NaN   \n",
       "3          mobile       NaN       Xiaomi          NaN   \n",
       "4          mobile       NaN       Xiaomi          NaN   \n",
       "\n",
       "  device_screen_resolution    device_browser geo_country     geo_city  \n",
       "0                  360x720            Chrome      Russia     Zlatoust  \n",
       "1                  385x854  Samsung Internet      Russia       Moscow  \n",
       "2                  360x720            Chrome      Russia  Krasnoyarsk  \n",
       "3                  393x786            Chrome      Russia       Moscow  \n",
       "4                  393x786            Chrome      Russia       Moscow  "
      ]
     },
     "execution_count": 17,
     "metadata": {},
     "output_type": "execute_result"
    }
   ],
   "source": [
    "df_sessions.head()"
   ]
  },
  {
   "cell_type": "code",
   "execution_count": 18,
   "metadata": {},
   "outputs": [
    {
     "data": {
      "text/plain": [
       "{'session_id': str,\n",
       " 'client_id': str,\n",
       " 'visit_date': str,\n",
       " 'visit_time': str,\n",
       " 'visit_number': int,\n",
       " 'utm_source': str,\n",
       " 'utm_medium': str,\n",
       " 'utm_campaign': str,\n",
       " 'utm_adcontent': str,\n",
       " 'utm_keyword': str,\n",
       " 'device_category': str,\n",
       " 'device_os': str,\n",
       " 'device_brand': str,\n",
       " 'device_model': str,\n",
       " 'device_screen_resolution': str,\n",
       " 'device_browser': str,\n",
       " 'geo_country': str,\n",
       " 'geo_city': str}"
      ]
     },
     "execution_count": 18,
     "metadata": {},
     "output_type": "execute_result"
    }
   ],
   "source": [
    "def map_dtype(dtype):\n",
    "    if pd.api.types.is_integer_dtype(dtype):\n",
    "        return int\n",
    "    elif pd.api.types.is_float_dtype(dtype):\n",
    "        return float\n",
    "    else:\n",
    "        return str\n",
    "\n",
    "column_types = {col: map_dtype(dtype) for col, dtype in df_sessions.dtypes.items()}\n",
    "column_types"
   ]
  },
  {
   "cell_type": "markdown",
   "metadata": {},
   "source": [
    "## 1.2 Binarizing Target"
   ]
  },
  {
   "cell_type": "code",
   "execution_count": 19,
   "metadata": {},
   "outputs": [
    {
     "data": {
      "text/plain": [
       "event_action\n",
       "0    15621562\n",
       "1      104908\n",
       "Name: count, dtype: int64"
      ]
     },
     "execution_count": 19,
     "metadata": {},
     "output_type": "execute_result"
    }
   ],
   "source": [
    "action_list = [\n",
    "    'sub_car_claim_click', \n",
    "    'sub_car_claim_submit_click', \n",
    "    'sub_open_dialog_click', \n",
    "    'sub_custom_question_submit_click', \n",
    "    'sub_call_number_click', \n",
    "    'sub_callback_submit_click', \n",
    "    'sub_submit_success', \n",
    "    'sub_car_request_submit_click'\n",
    "    ]\n",
    "\n",
    "df_hits.event_action = df_hits.event_action.apply(lambda x: 1 if x in action_list else 0)\n",
    "df_hits.event_action.value_counts()"
   ]
  },
  {
   "cell_type": "markdown",
   "metadata": {},
   "source": [
    "## 1.3 Merge"
   ]
  },
  {
   "cell_type": "markdown",
   "metadata": {},
   "source": [
    "### 1.3.1 Merging"
   ]
  },
  {
   "cell_type": "code",
   "execution_count": 20,
   "metadata": {},
   "outputs": [
    {
     "data": {
      "text/plain": [
       "(15685219, 19)"
      ]
     },
     "execution_count": 20,
     "metadata": {},
     "output_type": "execute_result"
    }
   ],
   "source": [
    "df = pd.merge(left=df_sessions, right=df_hits, on='session_id', how='inner')\n",
    "df.shape"
   ]
  },
  {
   "cell_type": "code",
   "execution_count": 21,
   "metadata": {},
   "outputs": [
    {
     "data": {
      "text/html": [
       "<div>\n",
       "<style scoped>\n",
       "    .dataframe tbody tr th:only-of-type {\n",
       "        vertical-align: middle;\n",
       "    }\n",
       "\n",
       "    .dataframe tbody tr th {\n",
       "        vertical-align: top;\n",
       "    }\n",
       "\n",
       "    .dataframe thead th {\n",
       "        text-align: right;\n",
       "    }\n",
       "</style>\n",
       "<table border=\"1\" class=\"dataframe\">\n",
       "  <thead>\n",
       "    <tr style=\"text-align: right;\">\n",
       "      <th></th>\n",
       "      <th>session_id</th>\n",
       "      <th>client_id</th>\n",
       "      <th>visit_date</th>\n",
       "      <th>visit_time</th>\n",
       "      <th>visit_number</th>\n",
       "      <th>utm_source</th>\n",
       "      <th>utm_medium</th>\n",
       "      <th>utm_campaign</th>\n",
       "      <th>utm_adcontent</th>\n",
       "      <th>utm_keyword</th>\n",
       "      <th>device_category</th>\n",
       "      <th>device_os</th>\n",
       "      <th>device_brand</th>\n",
       "      <th>device_model</th>\n",
       "      <th>device_screen_resolution</th>\n",
       "      <th>device_browser</th>\n",
       "      <th>geo_country</th>\n",
       "      <th>geo_city</th>\n",
       "      <th>event_action</th>\n",
       "    </tr>\n",
       "  </thead>\n",
       "  <tbody>\n",
       "    <tr>\n",
       "      <th>0</th>\n",
       "      <td>9055434745589932991.1637753792.1637753792</td>\n",
       "      <td>2108382700.1637753791</td>\n",
       "      <td>2021-11-24</td>\n",
       "      <td>14:36:32</td>\n",
       "      <td>1</td>\n",
       "      <td>ZpYIoDJMcFzVoPFsHGJL</td>\n",
       "      <td>banner</td>\n",
       "      <td>LEoPHuyFvzoNfnzGgfcd</td>\n",
       "      <td>vCIpmpaGBnIQhyYNkXqp</td>\n",
       "      <td>puhZPIYqKXeFPaUviSjo</td>\n",
       "      <td>mobile</td>\n",
       "      <td>Android</td>\n",
       "      <td>Huawei</td>\n",
       "      <td>NaN</td>\n",
       "      <td>360x720</td>\n",
       "      <td>Chrome</td>\n",
       "      <td>Russia</td>\n",
       "      <td>Zlatoust</td>\n",
       "      <td>0</td>\n",
       "    </tr>\n",
       "    <tr>\n",
       "      <th>1</th>\n",
       "      <td>9055434745589932991.1637753792.1637753792</td>\n",
       "      <td>2108382700.1637753791</td>\n",
       "      <td>2021-11-24</td>\n",
       "      <td>14:36:32</td>\n",
       "      <td>1</td>\n",
       "      <td>ZpYIoDJMcFzVoPFsHGJL</td>\n",
       "      <td>banner</td>\n",
       "      <td>LEoPHuyFvzoNfnzGgfcd</td>\n",
       "      <td>vCIpmpaGBnIQhyYNkXqp</td>\n",
       "      <td>puhZPIYqKXeFPaUviSjo</td>\n",
       "      <td>mobile</td>\n",
       "      <td>Android</td>\n",
       "      <td>Huawei</td>\n",
       "      <td>NaN</td>\n",
       "      <td>360x720</td>\n",
       "      <td>Chrome</td>\n",
       "      <td>Russia</td>\n",
       "      <td>Zlatoust</td>\n",
       "      <td>0</td>\n",
       "    </tr>\n",
       "    <tr>\n",
       "      <th>2</th>\n",
       "      <td>905544597018549464.1636867290.1636867290</td>\n",
       "      <td>210838531.1636867288</td>\n",
       "      <td>2021-11-14</td>\n",
       "      <td>08:21:30</td>\n",
       "      <td>1</td>\n",
       "      <td>MvfHsxITijuriZxsqZqt</td>\n",
       "      <td>cpm</td>\n",
       "      <td>FTjNLDyTrXaWYgZymFkV</td>\n",
       "      <td>xhoenQgDQsgfEPYNPwKO</td>\n",
       "      <td>IGUCNvHlhfHpROGclCit</td>\n",
       "      <td>mobile</td>\n",
       "      <td>Android</td>\n",
       "      <td>Samsung</td>\n",
       "      <td>NaN</td>\n",
       "      <td>385x854</td>\n",
       "      <td>Samsung Internet</td>\n",
       "      <td>Russia</td>\n",
       "      <td>Moscow</td>\n",
       "      <td>0</td>\n",
       "    </tr>\n",
       "    <tr>\n",
       "      <th>3</th>\n",
       "      <td>9055446045651783499.1640648526.1640648526</td>\n",
       "      <td>2108385331.1640648523</td>\n",
       "      <td>2021-12-28</td>\n",
       "      <td>02:42:06</td>\n",
       "      <td>1</td>\n",
       "      <td>ZpYIoDJMcFzVoPFsHGJL</td>\n",
       "      <td>banner</td>\n",
       "      <td>LEoPHuyFvzoNfnzGgfcd</td>\n",
       "      <td>vCIpmpaGBnIQhyYNkXqp</td>\n",
       "      <td>puhZPIYqKXeFPaUviSjo</td>\n",
       "      <td>mobile</td>\n",
       "      <td>Android</td>\n",
       "      <td>Huawei</td>\n",
       "      <td>NaN</td>\n",
       "      <td>360x720</td>\n",
       "      <td>Chrome</td>\n",
       "      <td>Russia</td>\n",
       "      <td>Krasnoyarsk</td>\n",
       "      <td>0</td>\n",
       "    </tr>\n",
       "    <tr>\n",
       "      <th>4</th>\n",
       "      <td>9055446045651783499.1640648526.1640648526</td>\n",
       "      <td>2108385331.1640648523</td>\n",
       "      <td>2021-12-28</td>\n",
       "      <td>02:42:06</td>\n",
       "      <td>1</td>\n",
       "      <td>ZpYIoDJMcFzVoPFsHGJL</td>\n",
       "      <td>banner</td>\n",
       "      <td>LEoPHuyFvzoNfnzGgfcd</td>\n",
       "      <td>vCIpmpaGBnIQhyYNkXqp</td>\n",
       "      <td>puhZPIYqKXeFPaUviSjo</td>\n",
       "      <td>mobile</td>\n",
       "      <td>Android</td>\n",
       "      <td>Huawei</td>\n",
       "      <td>NaN</td>\n",
       "      <td>360x720</td>\n",
       "      <td>Chrome</td>\n",
       "      <td>Russia</td>\n",
       "      <td>Krasnoyarsk</td>\n",
       "      <td>0</td>\n",
       "    </tr>\n",
       "  </tbody>\n",
       "</table>\n",
       "</div>"
      ],
      "text/plain": [
       "                                  session_id              client_id  \\\n",
       "0  9055434745589932991.1637753792.1637753792  2108382700.1637753791   \n",
       "1  9055434745589932991.1637753792.1637753792  2108382700.1637753791   \n",
       "2   905544597018549464.1636867290.1636867290   210838531.1636867288   \n",
       "3  9055446045651783499.1640648526.1640648526  2108385331.1640648523   \n",
       "4  9055446045651783499.1640648526.1640648526  2108385331.1640648523   \n",
       "\n",
       "   visit_date visit_time  visit_number            utm_source utm_medium  \\\n",
       "0  2021-11-24   14:36:32             1  ZpYIoDJMcFzVoPFsHGJL     banner   \n",
       "1  2021-11-24   14:36:32             1  ZpYIoDJMcFzVoPFsHGJL     banner   \n",
       "2  2021-11-14   08:21:30             1  MvfHsxITijuriZxsqZqt        cpm   \n",
       "3  2021-12-28   02:42:06             1  ZpYIoDJMcFzVoPFsHGJL     banner   \n",
       "4  2021-12-28   02:42:06             1  ZpYIoDJMcFzVoPFsHGJL     banner   \n",
       "\n",
       "           utm_campaign         utm_adcontent           utm_keyword  \\\n",
       "0  LEoPHuyFvzoNfnzGgfcd  vCIpmpaGBnIQhyYNkXqp  puhZPIYqKXeFPaUviSjo   \n",
       "1  LEoPHuyFvzoNfnzGgfcd  vCIpmpaGBnIQhyYNkXqp  puhZPIYqKXeFPaUviSjo   \n",
       "2  FTjNLDyTrXaWYgZymFkV  xhoenQgDQsgfEPYNPwKO  IGUCNvHlhfHpROGclCit   \n",
       "3  LEoPHuyFvzoNfnzGgfcd  vCIpmpaGBnIQhyYNkXqp  puhZPIYqKXeFPaUviSjo   \n",
       "4  LEoPHuyFvzoNfnzGgfcd  vCIpmpaGBnIQhyYNkXqp  puhZPIYqKXeFPaUviSjo   \n",
       "\n",
       "  device_category device_os device_brand device_model  \\\n",
       "0          mobile   Android       Huawei          NaN   \n",
       "1          mobile   Android       Huawei          NaN   \n",
       "2          mobile   Android      Samsung          NaN   \n",
       "3          mobile   Android       Huawei          NaN   \n",
       "4          mobile   Android       Huawei          NaN   \n",
       "\n",
       "  device_screen_resolution    device_browser geo_country     geo_city  \\\n",
       "0                  360x720            Chrome      Russia     Zlatoust   \n",
       "1                  360x720            Chrome      Russia     Zlatoust   \n",
       "2                  385x854  Samsung Internet      Russia       Moscow   \n",
       "3                  360x720            Chrome      Russia  Krasnoyarsk   \n",
       "4                  360x720            Chrome      Russia  Krasnoyarsk   \n",
       "\n",
       "   event_action  \n",
       "0             0  \n",
       "1             0  \n",
       "2             0  \n",
       "3             0  \n",
       "4             0  "
      ]
     },
     "execution_count": 21,
     "metadata": {},
     "output_type": "execute_result"
    }
   ],
   "source": [
    "df.head()"
   ]
  },
  {
   "cell_type": "markdown",
   "metadata": {},
   "source": [
    "### 1.3.2 Dropping duplicates"
   ]
  },
  {
   "cell_type": "code",
   "execution_count": 22,
   "metadata": {},
   "outputs": [
    {
     "data": {
      "text/plain": [
       "(1732266, 19)"
      ]
     },
     "execution_count": 22,
     "metadata": {},
     "output_type": "execute_result"
    }
   ],
   "source": [
    "df = df.sort_values(by=[\"event_action\"], ascending=False)\n",
    "df = df.drop_duplicates(subset=[\"session_id\"], keep=\"first\")\n",
    "df.shape"
   ]
  },
  {
   "cell_type": "markdown",
   "metadata": {},
   "source": [
    "# 2. Data Preparation"
   ]
  },
  {
   "cell_type": "code",
   "execution_count": 23,
   "metadata": {},
   "outputs": [
    {
     "name": "stdout",
     "output_type": "stream",
     "text": [
      "<class 'pandas.core.frame.DataFrame'>\n",
      "Index: 1732266 entries, 12337081 to 5245208\n",
      "Data columns (total 19 columns):\n",
      " #   Column                    Dtype \n",
      "---  ------                    ----- \n",
      " 0   session_id                object\n",
      " 1   client_id                 object\n",
      " 2   visit_date                object\n",
      " 3   visit_time                object\n",
      " 4   visit_number              Int32 \n",
      " 5   utm_source                object\n",
      " 6   utm_medium                object\n",
      " 7   utm_campaign              object\n",
      " 8   utm_adcontent             object\n",
      " 9   utm_keyword               object\n",
      " 10  device_category           object\n",
      " 11  device_os                 object\n",
      " 12  device_brand              object\n",
      " 13  device_model              object\n",
      " 14  device_screen_resolution  object\n",
      " 15  device_browser            object\n",
      " 16  geo_country               object\n",
      " 17  geo_city                  object\n",
      " 18  event_action              int64 \n",
      "dtypes: Int32(1), int64(1), object(17)\n",
      "memory usage: 259.4+ MB\n"
     ]
    }
   ],
   "source": [
    "df.info()"
   ]
  },
  {
   "cell_type": "code",
   "execution_count": 30,
   "metadata": {},
   "outputs": [],
   "source": [
    "df_data_prep = df.copy()"
   ]
  },
  {
   "cell_type": "markdown",
   "metadata": {},
   "source": [
    "## 2.1 Pandas Profiling"
   ]
  },
  {
   "cell_type": "code",
   "execution_count": 31,
   "metadata": {},
   "outputs": [],
   "source": [
    "# report = ProfileReport(df_data_prep)\n",
    "# report"
   ]
  },
  {
   "cell_type": "markdown",
   "metadata": {},
   "source": [
    "## 2.2 Processing NANs"
   ]
  },
  {
   "cell_type": "markdown",
   "metadata": {},
   "source": [
    "Let's have a closer look at columns with NAN values."
   ]
  },
  {
   "cell_type": "code",
   "execution_count": 32,
   "metadata": {},
   "outputs": [
    {
     "name": "stdout",
     "output_type": "stream",
     "text": [
      "device_model             : 1717204    = 99.13 %\n",
      "utm_keyword              : 1020752    = 58.93 %\n",
      "device_os                : 1013964    = 58.53 %\n",
      "device_brand             : 347196     = 20.04 %\n",
      "utm_adcontent            : 304137     = 17.56 %\n",
      "utm_campaign             : 195287     = 11.27 %\n",
      "utm_source               : 76         = 0.0 %\n"
     ]
    },
    {
     "data": {
      "text/plain": [
       "[('device_model', (1717204, 99.13)),\n",
       " ('utm_keyword', (1020752, 58.93)),\n",
       " ('device_os', (1013964, 58.53)),\n",
       " ('device_brand', (347196, 20.04)),\n",
       " ('utm_adcontent', (304137, 17.56)),\n",
       " ('utm_campaign', (195287, 11.27)),\n",
       " ('utm_source', (76, 0.0))]"
      ]
     },
     "execution_count": 32,
     "metadata": {},
     "output_type": "execute_result"
    }
   ],
   "source": [
    "def get_na_dict(df):\n",
    "    na_dict = dict()\n",
    "    for i in df.columns:\n",
    "        na_value = df[i].isna().sum()\n",
    "        if na_value > 0:\n",
    "            percent = round(na_value / df.shape[0] * 100, 2)\n",
    "            na_dict[i] = na_value, percent\n",
    "    \n",
    "    return na_dict if na_dict else \"No NAN values in the dataframe\"\n",
    "\n",
    "\n",
    "def sort_dict(dct):\n",
    "    sorted_list = sorted(dct.items(), key=lambda x: x[1][0], reverse=True)\n",
    "\n",
    "    return sorted_list\n",
    "\n",
    "\n",
    "def print_list(sorted_list):\n",
    "    for i in sorted_list:\n",
    "        print(f\"{i[0]:<25}: {i[1][0]:<10} = {i[1][1]} %\")\n",
    "\n",
    "\n",
    "def get_na(df):\n",
    "    na_dict = get_na_dict(df_data_prep)\n",
    "    sorted_list = sort_dict(na_dict)\n",
    "    print_list(sorted_list)\n",
    "    return sorted_list\n",
    "\n",
    "\n",
    "get_na(df_data_prep)\n"
   ]
  },
  {
   "cell_type": "markdown",
   "metadata": {},
   "source": [
    "### 2.2.1 Filling device OS"
   ]
  },
  {
   "cell_type": "code",
   "execution_count": 33,
   "metadata": {},
   "outputs": [
    {
     "data": {
      "text/plain": [
       "device_os\n",
       "NaN              1013964\n",
       "Android           425520\n",
       "iOS               182597\n",
       "Windows            81740\n",
       "Macintosh          23415\n",
       "Linux               4616\n",
       "(not set)            309\n",
       "Chrome OS             65\n",
       "BlackBerry            24\n",
       "Tizen                  7\n",
       "Firefox OS             3\n",
       "Windows Phone          2\n",
       "Nokia                  2\n",
       "Samsung                2\n",
       "Name: count, dtype: int64"
      ]
     },
     "execution_count": 33,
     "metadata": {},
     "output_type": "execute_result"
    }
   ],
   "source": [
    "df_data_prep.device_os.value_counts(dropna=False)"
   ]
  },
  {
   "cell_type": "code",
   "execution_count": 34,
   "metadata": {},
   "outputs": [
    {
     "data": {
      "text/html": [
       "<div>\n",
       "<style scoped>\n",
       "    .dataframe tbody tr th:only-of-type {\n",
       "        vertical-align: middle;\n",
       "    }\n",
       "\n",
       "    .dataframe tbody tr th {\n",
       "        vertical-align: top;\n",
       "    }\n",
       "\n",
       "    .dataframe thead th {\n",
       "        text-align: right;\n",
       "    }\n",
       "</style>\n",
       "<table border=\"1\" class=\"dataframe\">\n",
       "  <thead>\n",
       "    <tr style=\"text-align: right;\">\n",
       "      <th></th>\n",
       "      <th>session_id</th>\n",
       "      <th>client_id</th>\n",
       "      <th>visit_date</th>\n",
       "      <th>visit_time</th>\n",
       "      <th>visit_number</th>\n",
       "      <th>utm_source</th>\n",
       "      <th>utm_medium</th>\n",
       "      <th>utm_campaign</th>\n",
       "      <th>utm_adcontent</th>\n",
       "      <th>utm_keyword</th>\n",
       "      <th>device_category</th>\n",
       "      <th>device_os</th>\n",
       "      <th>device_brand</th>\n",
       "      <th>device_model</th>\n",
       "      <th>device_screen_resolution</th>\n",
       "      <th>device_browser</th>\n",
       "      <th>geo_country</th>\n",
       "      <th>geo_city</th>\n",
       "      <th>event_action</th>\n",
       "    </tr>\n",
       "  </thead>\n",
       "  <tbody>\n",
       "    <tr>\n",
       "      <th>4773100</th>\n",
       "      <td>3277696661413753280.1628238272.1628238272</td>\n",
       "      <td>763148223.1628238272</td>\n",
       "      <td>2021-08-06</td>\n",
       "      <td>11:00:00</td>\n",
       "      <td>1</td>\n",
       "      <td>fDLlAcSmythWSCVMvqvL</td>\n",
       "      <td>(none)</td>\n",
       "      <td>LTuZkdKfxRGVceoWkVyg</td>\n",
       "      <td>JNHcPlZPxEMWDnRiyoBf</td>\n",
       "      <td>NaN</td>\n",
       "      <td>mobile</td>\n",
       "      <td>NaN</td>\n",
       "      <td>Apple</td>\n",
       "      <td>NaN</td>\n",
       "      <td>414x896</td>\n",
       "      <td>Chrome</td>\n",
       "      <td>Russia</td>\n",
       "      <td>Grozny</td>\n",
       "      <td>1</td>\n",
       "    </tr>\n",
       "    <tr>\n",
       "      <th>9390443</th>\n",
       "      <td>5723681030410214065.1631460017.1631460017</td>\n",
       "      <td>1332648338.1631460017</td>\n",
       "      <td>2021-09-12</td>\n",
       "      <td>18:00:00</td>\n",
       "      <td>1</td>\n",
       "      <td>QxAxdyPLuQMEcrdZWdWb</td>\n",
       "      <td>cpm</td>\n",
       "      <td>EiQppLFrUZrUsjXVulLg</td>\n",
       "      <td>JNHcPlZPxEMWDnRiyoBf</td>\n",
       "      <td>NaN</td>\n",
       "      <td>mobile</td>\n",
       "      <td>NaN</td>\n",
       "      <td>Apple</td>\n",
       "      <td>NaN</td>\n",
       "      <td>414x896</td>\n",
       "      <td>Safari (in-app)</td>\n",
       "      <td>Russia</td>\n",
       "      <td>Saint Petersburg</td>\n",
       "      <td>1</td>\n",
       "    </tr>\n",
       "    <tr>\n",
       "      <th>1770382</th>\n",
       "      <td>1695172405933607602.1622641330.1622641330</td>\n",
       "      <td>394688082.1622641330</td>\n",
       "      <td>2021-06-02</td>\n",
       "      <td>16:00:00</td>\n",
       "      <td>1</td>\n",
       "      <td>fDLlAcSmythWSCVMvqvL</td>\n",
       "      <td>(none)</td>\n",
       "      <td>LTuZkdKfxRGVceoWkVyg</td>\n",
       "      <td>JNHcPlZPxEMWDnRiyoBf</td>\n",
       "      <td>NaN</td>\n",
       "      <td>mobile</td>\n",
       "      <td>NaN</td>\n",
       "      <td>Apple</td>\n",
       "      <td>NaN</td>\n",
       "      <td>414x896</td>\n",
       "      <td>Safari</td>\n",
       "      <td>Russia</td>\n",
       "      <td>Moscow</td>\n",
       "      <td>1</td>\n",
       "    </tr>\n",
       "    <tr>\n",
       "      <th>13830772</th>\n",
       "      <td>8072712495578074887.1623838471.1623838471</td>\n",
       "      <td>1879574846.1623838471</td>\n",
       "      <td>2021-06-16</td>\n",
       "      <td>13:00:00</td>\n",
       "      <td>1</td>\n",
       "      <td>fDLlAcSmythWSCVMvqvL</td>\n",
       "      <td>(none)</td>\n",
       "      <td>LTuZkdKfxRGVceoWkVyg</td>\n",
       "      <td>JNHcPlZPxEMWDnRiyoBf</td>\n",
       "      <td>NaN</td>\n",
       "      <td>mobile</td>\n",
       "      <td>NaN</td>\n",
       "      <td>Apple</td>\n",
       "      <td>NaN</td>\n",
       "      <td>414x896</td>\n",
       "      <td>Safari (in-app)</td>\n",
       "      <td>Russia</td>\n",
       "      <td>Saint Petersburg</td>\n",
       "      <td>1</td>\n",
       "    </tr>\n",
       "    <tr>\n",
       "      <th>15482720</th>\n",
       "      <td>8947424787755135500.1622056717.1622056717</td>\n",
       "      <td>2083234672.1621848588</td>\n",
       "      <td>2021-05-26</td>\n",
       "      <td>22:00:00</td>\n",
       "      <td>2</td>\n",
       "      <td>kjsLglQLzykiRbcDiGcD</td>\n",
       "      <td>organic</td>\n",
       "      <td>LTuZkdKfxRGVceoWkVyg</td>\n",
       "      <td>JNHcPlZPxEMWDnRiyoBf</td>\n",
       "      <td>NaN</td>\n",
       "      <td>mobile</td>\n",
       "      <td>NaN</td>\n",
       "      <td>Apple</td>\n",
       "      <td>NaN</td>\n",
       "      <td>390x844</td>\n",
       "      <td>Safari</td>\n",
       "      <td>Russia</td>\n",
       "      <td>Samara</td>\n",
       "      <td>1</td>\n",
       "    </tr>\n",
       "  </tbody>\n",
       "</table>\n",
       "</div>"
      ],
      "text/plain": [
       "                                         session_id              client_id  \\\n",
       "4773100   3277696661413753280.1628238272.1628238272   763148223.1628238272   \n",
       "9390443   5723681030410214065.1631460017.1631460017  1332648338.1631460017   \n",
       "1770382   1695172405933607602.1622641330.1622641330   394688082.1622641330   \n",
       "13830772  8072712495578074887.1623838471.1623838471  1879574846.1623838471   \n",
       "15482720  8947424787755135500.1622056717.1622056717  2083234672.1621848588   \n",
       "\n",
       "          visit_date visit_time  visit_number            utm_source  \\\n",
       "4773100   2021-08-06   11:00:00             1  fDLlAcSmythWSCVMvqvL   \n",
       "9390443   2021-09-12   18:00:00             1  QxAxdyPLuQMEcrdZWdWb   \n",
       "1770382   2021-06-02   16:00:00             1  fDLlAcSmythWSCVMvqvL   \n",
       "13830772  2021-06-16   13:00:00             1  fDLlAcSmythWSCVMvqvL   \n",
       "15482720  2021-05-26   22:00:00             2  kjsLglQLzykiRbcDiGcD   \n",
       "\n",
       "         utm_medium          utm_campaign         utm_adcontent utm_keyword  \\\n",
       "4773100      (none)  LTuZkdKfxRGVceoWkVyg  JNHcPlZPxEMWDnRiyoBf         NaN   \n",
       "9390443         cpm  EiQppLFrUZrUsjXVulLg  JNHcPlZPxEMWDnRiyoBf         NaN   \n",
       "1770382      (none)  LTuZkdKfxRGVceoWkVyg  JNHcPlZPxEMWDnRiyoBf         NaN   \n",
       "13830772     (none)  LTuZkdKfxRGVceoWkVyg  JNHcPlZPxEMWDnRiyoBf         NaN   \n",
       "15482720    organic  LTuZkdKfxRGVceoWkVyg  JNHcPlZPxEMWDnRiyoBf         NaN   \n",
       "\n",
       "         device_category device_os device_brand device_model  \\\n",
       "4773100           mobile       NaN        Apple          NaN   \n",
       "9390443           mobile       NaN        Apple          NaN   \n",
       "1770382           mobile       NaN        Apple          NaN   \n",
       "13830772          mobile       NaN        Apple          NaN   \n",
       "15482720          mobile       NaN        Apple          NaN   \n",
       "\n",
       "         device_screen_resolution   device_browser geo_country  \\\n",
       "4773100                   414x896           Chrome      Russia   \n",
       "9390443                   414x896  Safari (in-app)      Russia   \n",
       "1770382                   414x896           Safari      Russia   \n",
       "13830772                  414x896  Safari (in-app)      Russia   \n",
       "15482720                  390x844           Safari      Russia   \n",
       "\n",
       "                  geo_city  event_action  \n",
       "4773100             Grozny             1  \n",
       "9390443   Saint Petersburg             1  \n",
       "1770382             Moscow             1  \n",
       "13830772  Saint Petersburg             1  \n",
       "15482720            Samara             1  "
      ]
     },
     "execution_count": 34,
     "metadata": {},
     "output_type": "execute_result"
    }
   ],
   "source": [
    "dev_filter = df_data_prep[\n",
    "    (df_data_prep['device_brand'] == 'Apple') & \\\n",
    "    (df_data_prep['device_os'].isna() == True) \n",
    "]\n",
    "dev_filter.head()"
   ]
  },
  {
   "cell_type": "code",
   "execution_count": 35,
   "metadata": {},
   "outputs": [],
   "source": [
    "def fill_device_os(row):\n",
    "    if pd.isna(row.device_os):\n",
    "        if row.device_brand == 'Apple':\n",
    "            return 'iOS'\n",
    "        elif row.device_category == 'mobile':\n",
    "            return 'Android'\n",
    "        elif row.device_category == 'desktop':\n",
    "            return 'Windows'\n",
    "        else:\n",
    "            return 'other'\n",
    "    else:\n",
    "        return row['device_os']\n",
    "\n",
    "\n",
    "df_data_prep['device_os'] = df_data_prep.apply(fill_device_os, axis=1)"
   ]
  },
  {
   "cell_type": "code",
   "execution_count": 36,
   "metadata": {},
   "outputs": [
    {
     "data": {
      "text/plain": [
       "device_os\n",
       "Android          875038\n",
       "iOS              503538\n",
       "Windows          318491\n",
       "Macintosh         23415\n",
       "other              6754\n",
       "Linux              4616\n",
       "(not set)           309\n",
       "Chrome OS            65\n",
       "BlackBerry           24\n",
       "Tizen                 7\n",
       "Firefox OS            3\n",
       "Windows Phone         2\n",
       "Nokia                 2\n",
       "Samsung               2\n",
       "Name: count, dtype: int64"
      ]
     },
     "execution_count": 36,
     "metadata": {},
     "output_type": "execute_result"
    }
   ],
   "source": [
    "df_data_prep.device_os.value_counts(dropna=False)"
   ]
  },
  {
   "cell_type": "code",
   "execution_count": 37,
   "metadata": {},
   "outputs": [
    {
     "data": {
      "text/plain": [
       "309"
      ]
     },
     "execution_count": 37,
     "metadata": {},
     "output_type": "execute_result"
    }
   ],
   "source": [
    "df_data_prep = df_data_prep[~(df_data_prep.device_os == '(not set)')]\n",
    "diff = df.shape[0] - df_data_prep.shape[0]\n",
    "diff\n"
   ]
  },
  {
   "cell_type": "markdown",
   "metadata": {},
   "source": [
    "### 2.2.2 Filling device brand"
   ]
  },
  {
   "cell_type": "code",
   "execution_count": 38,
   "metadata": {},
   "outputs": [
    {
     "name": "stdout",
     "output_type": "stream",
     "text": [
      "device_model             : 1716902    = 99.13 %\n",
      "utm_keyword              : 1020739    = 58.94 %\n",
      "device_brand             : 346894     = 20.03 %\n",
      "utm_adcontent            : 304123     = 17.56 %\n",
      "utm_campaign             : 195282     = 11.28 %\n",
      "utm_source               : 76         = 0.0 %\n"
     ]
    },
    {
     "data": {
      "text/plain": [
       "[('device_model', (1716902, 99.13)),\n",
       " ('utm_keyword', (1020739, 58.94)),\n",
       " ('device_brand', (346894, 20.03)),\n",
       " ('utm_adcontent', (304123, 17.56)),\n",
       " ('utm_campaign', (195282, 11.28)),\n",
       " ('utm_source', (76, 0.0))]"
      ]
     },
     "execution_count": 38,
     "metadata": {},
     "output_type": "execute_result"
    }
   ],
   "source": [
    "get_na(df_data_prep)"
   ]
  },
  {
   "cell_type": "code",
   "execution_count": 39,
   "metadata": {},
   "outputs": [
    {
     "data": {
      "text/plain": [
       "device_brand\n",
       "Apple        503533\n",
       "Samsung      311641\n",
       "Xiaomi       269251\n",
       "Huawei       173828\n",
       "Realme        17926\n",
       "              ...  \n",
       "Maze              1\n",
       "Dell              1\n",
       "Gigaset           1\n",
       "Centric           1\n",
       "Honeywell         1\n",
       "Name: count, Length: 200, dtype: int64"
      ]
     },
     "execution_count": 39,
     "metadata": {},
     "output_type": "execute_result"
    }
   ],
   "source": [
    "df_data_prep.device_brand.value_counts()"
   ]
  },
  {
   "cell_type": "code",
   "execution_count": 40,
   "metadata": {},
   "outputs": [
    {
     "data": {
      "text/html": [
       "<div>\n",
       "<style scoped>\n",
       "    .dataframe tbody tr th:only-of-type {\n",
       "        vertical-align: middle;\n",
       "    }\n",
       "\n",
       "    .dataframe tbody tr th {\n",
       "        vertical-align: top;\n",
       "    }\n",
       "\n",
       "    .dataframe thead th {\n",
       "        text-align: right;\n",
       "    }\n",
       "</style>\n",
       "<table border=\"1\" class=\"dataframe\">\n",
       "  <thead>\n",
       "    <tr style=\"text-align: right;\">\n",
       "      <th></th>\n",
       "      <th>missing_brands</th>\n",
       "    </tr>\n",
       "    <tr>\n",
       "      <th>device_category</th>\n",
       "      <th></th>\n",
       "    </tr>\n",
       "  </thead>\n",
       "  <tbody>\n",
       "    <tr>\n",
       "      <th>desktop</th>\n",
       "      <td>346450</td>\n",
       "    </tr>\n",
       "    <tr>\n",
       "      <th>mobile</th>\n",
       "      <td>288</td>\n",
       "    </tr>\n",
       "    <tr>\n",
       "      <th>tablet</th>\n",
       "      <td>156</td>\n",
       "    </tr>\n",
       "  </tbody>\n",
       "</table>\n",
       "</div>"
      ],
      "text/plain": [
       "                 missing_brands\n",
       "device_category                \n",
       "desktop                  346450\n",
       "mobile                      288\n",
       "tablet                      156"
      ]
     },
     "execution_count": 40,
     "metadata": {},
     "output_type": "execute_result"
    }
   ],
   "source": [
    "df_data_prep[['device_category', 'device_brand']].groupby('device_category').agg(\n",
    "    missing_brands=('device_brand', lambda x: x.isna().sum())\n",
    "    )"
   ]
  },
  {
   "cell_type": "code",
   "execution_count": 41,
   "metadata": {},
   "outputs": [
    {
     "data": {
      "text/plain": [
       "(23415, 19)"
      ]
     },
     "execution_count": 41,
     "metadata": {},
     "output_type": "execute_result"
    }
   ],
   "source": [
    "df_data_prep[\n",
    "    (df_data_prep[\"device_brand\"].isna() == True) &\n",
    "    (df_data_prep[\"device_os\"] == \"Macintosh\")\n",
    "].shape"
   ]
  },
  {
   "cell_type": "code",
   "execution_count": 42,
   "metadata": {},
   "outputs": [
    {
     "data": {
      "text/plain": [
       "(318444, 19)"
      ]
     },
     "execution_count": 42,
     "metadata": {},
     "output_type": "execute_result"
    }
   ],
   "source": [
    "df_data_prep[\n",
    "    (df_data_prep[\"device_brand\"].isna() == True) &\n",
    "    (df_data_prep[\"device_os\"] == \"Windows\")\n",
    "].shape"
   ]
  },
  {
   "cell_type": "code",
   "execution_count": 43,
   "metadata": {},
   "outputs": [
    {
     "data": {
      "text/plain": [
       "(4616, 19)"
      ]
     },
     "execution_count": 43,
     "metadata": {},
     "output_type": "execute_result"
    }
   ],
   "source": [
    "df_data_prep[\n",
    "    (df_data_prep[\"device_brand\"].isna() == True) &\n",
    "    (df_data_prep[\"device_os\"] == \"Linux\")\n",
    "].shape"
   ]
  },
  {
   "cell_type": "code",
   "execution_count": 44,
   "metadata": {},
   "outputs": [],
   "source": [
    "def fill_device_brand(row):\n",
    "    if pd.isna(row.device_brand):\n",
    "        if row.device_os == 'Macintosh':\n",
    "            return 'Apple'\n",
    "        elif row.device_os == \"Windows\" or row.device_os == \"Linux\":\n",
    "            return 'custom'\n",
    "        else:\n",
    "            return 'other'\n",
    "    else:\n",
    "        return row['device_brand']\n",
    "\n",
    "\n",
    "df_data_prep['device_brand'] = df_data_prep.apply(fill_device_brand, axis=1)"
   ]
  },
  {
   "cell_type": "code",
   "execution_count": 45,
   "metadata": {},
   "outputs": [
    {
     "name": "stdout",
     "output_type": "stream",
     "text": [
      "device_model             : 1716902    = 99.13 %\n",
      "utm_keyword              : 1020739    = 58.94 %\n",
      "utm_adcontent            : 304123     = 17.56 %\n",
      "utm_campaign             : 195282     = 11.28 %\n",
      "utm_source               : 76         = 0.0 %\n"
     ]
    },
    {
     "data": {
      "text/plain": [
       "[('device_model', (1716902, 99.13)),\n",
       " ('utm_keyword', (1020739, 58.94)),\n",
       " ('utm_adcontent', (304123, 17.56)),\n",
       " ('utm_campaign', (195282, 11.28)),\n",
       " ('utm_source', (76, 0.0))]"
      ]
     },
     "execution_count": 45,
     "metadata": {},
     "output_type": "execute_result"
    }
   ],
   "source": [
    "get_na(df_data_prep)"
   ]
  },
  {
   "cell_type": "markdown",
   "metadata": {},
   "source": [
    "Now, let's prepare two lists: one—with columns to drop (threshold > 30%), and the other—with columns where NANs to be filled with a mode."
   ]
  },
  {
   "cell_type": "markdown",
   "metadata": {},
   "source": [
    "### 2.2.3 Deleting Cols With Lots of NANs"
   ]
  },
  {
   "cell_type": "code",
   "execution_count": 46,
   "metadata": {},
   "outputs": [
    {
     "name": "stdout",
     "output_type": "stream",
     "text": [
      "device_model             : 1716902    = 99.13 %\n",
      "utm_keyword              : 1020739    = 58.94 %\n",
      "utm_adcontent            : 304123     = 17.56 %\n",
      "utm_campaign             : 195282     = 11.28 %\n",
      "utm_source               : 76         = 0.0 %\n",
      "\n",
      "\n",
      "The following columns will be dropped:\n",
      "\n",
      "device_model\n",
      "utm_keyword\n"
     ]
    }
   ],
   "source": [
    "def cols_to_drop(sorted_list):\n",
    "    columns_to_drop = []\n",
    "    columns_to_process = []\n",
    "    for i in sorted_list:\n",
    "        if i[1][1] > 30:\n",
    "            columns_to_drop.append(i[0])\n",
    "        else:\n",
    "            columns_to_process.append(i[0])\n",
    "    \n",
    "    return columns_to_drop, columns_to_process\n",
    "\n",
    "\n",
    "\n",
    "columns_to_drop, columns_to_process = cols_to_drop(get_na(df_data_prep))\n",
    "print(\"\\n\\nThe following columns will be dropped:\\n\")\n",
    "print(*columns_to_drop, sep=\"\\n\")\n"
   ]
  },
  {
   "cell_type": "markdown",
   "metadata": {},
   "source": [
    "Dropping the columns:"
   ]
  },
  {
   "cell_type": "code",
   "execution_count": 47,
   "metadata": {},
   "outputs": [
    {
     "data": {
      "text/plain": [
       "(1731957, 17)"
      ]
     },
     "execution_count": 47,
     "metadata": {},
     "output_type": "execute_result"
    }
   ],
   "source": [
    "df_data_prep = df_data_prep.drop(columns_to_drop, axis=1)\n",
    "df_data_prep.shape"
   ]
  },
  {
   "cell_type": "markdown",
   "metadata": {},
   "source": [
    "Let's also drop id's and hit_type columns. The latter should be eliminated because it has only one value according to Ydata Profiling."
   ]
  },
  {
   "cell_type": "code",
   "execution_count": 48,
   "metadata": {},
   "outputs": [],
   "source": [
    "# ids = [\"session_id\", \"client_id\", \"hit_type\"]\n",
    "# df_data_prep = df_data_prep.drop(ids, axis=1)\n",
    "# df_data_prep.shape"
   ]
  },
  {
   "cell_type": "markdown",
   "metadata": {},
   "source": [
    "### 2.2.2 Filling NANs with a Mode"
   ]
  },
  {
   "cell_type": "markdown",
   "metadata": {},
   "source": [
    "Now let's fill all the NANs with a mode."
   ]
  },
  {
   "cell_type": "code",
   "execution_count": 49,
   "metadata": {},
   "outputs": [
    {
     "data": {
      "text/plain": [
       "session_id                       0\n",
       "client_id                        0\n",
       "visit_date                       0\n",
       "visit_time                       0\n",
       "visit_number                     0\n",
       "utm_source                      76\n",
       "utm_medium                       0\n",
       "utm_campaign                195282\n",
       "utm_adcontent               304123\n",
       "device_category                  0\n",
       "device_os                        0\n",
       "device_brand                     0\n",
       "device_screen_resolution         0\n",
       "device_browser                   0\n",
       "geo_country                      0\n",
       "geo_city                         0\n",
       "event_action                     0\n",
       "dtype: int64"
      ]
     },
     "execution_count": 49,
     "metadata": {},
     "output_type": "execute_result"
    }
   ],
   "source": [
    "isna = df_data_prep.isna().sum()\n",
    "isna"
   ]
  },
  {
   "cell_type": "code",
   "execution_count": 50,
   "metadata": {},
   "outputs": [],
   "source": [
    "def fill_with_mode(df):\n",
    "    for i in df.columns:\n",
    "        df[i] = df[i].fillna(df[i].mode()[0])\n",
    "\n",
    "    return df\n",
    "\n",
    "df_data_prep = fill_with_mode(df_data_prep)\n"
   ]
  },
  {
   "cell_type": "code",
   "execution_count": 51,
   "metadata": {},
   "outputs": [
    {
     "data": {
      "text/html": [
       "<div>\n",
       "<style scoped>\n",
       "    .dataframe tbody tr th:only-of-type {\n",
       "        vertical-align: middle;\n",
       "    }\n",
       "\n",
       "    .dataframe tbody tr th {\n",
       "        vertical-align: top;\n",
       "    }\n",
       "\n",
       "    .dataframe thead th {\n",
       "        text-align: right;\n",
       "    }\n",
       "</style>\n",
       "<table border=\"1\" class=\"dataframe\">\n",
       "  <thead>\n",
       "    <tr style=\"text-align: right;\">\n",
       "      <th></th>\n",
       "      <th>session_id</th>\n",
       "      <th>client_id</th>\n",
       "      <th>visit_date</th>\n",
       "      <th>visit_time</th>\n",
       "      <th>visit_number</th>\n",
       "      <th>utm_source</th>\n",
       "      <th>utm_medium</th>\n",
       "      <th>utm_campaign</th>\n",
       "      <th>utm_adcontent</th>\n",
       "      <th>device_category</th>\n",
       "      <th>device_os</th>\n",
       "      <th>device_brand</th>\n",
       "      <th>device_screen_resolution</th>\n",
       "      <th>device_browser</th>\n",
       "      <th>geo_country</th>\n",
       "      <th>geo_city</th>\n",
       "      <th>event_action</th>\n",
       "    </tr>\n",
       "  </thead>\n",
       "  <tbody>\n",
       "    <tr>\n",
       "      <th>12337081</th>\n",
       "      <td>7284725054902084534.1624538941.1624538941</td>\n",
       "      <td>1696107223.1607705526</td>\n",
       "      <td>2021-06-24</td>\n",
       "      <td>15:00:00</td>\n",
       "      <td>75</td>\n",
       "      <td>jaSOmLICuBzCFqHfBdRg</td>\n",
       "      <td>email</td>\n",
       "      <td>LliRUcMuIXWdLyWHGyiO</td>\n",
       "      <td>sDWYAbLNiGZVxGBDdTxc</td>\n",
       "      <td>desktop</td>\n",
       "      <td>Windows</td>\n",
       "      <td>custom</td>\n",
       "      <td>1280x720</td>\n",
       "      <td>Chrome</td>\n",
       "      <td>Russia</td>\n",
       "      <td>Moscow</td>\n",
       "      <td>1</td>\n",
       "    </tr>\n",
       "    <tr>\n",
       "      <th>3288869</th>\n",
       "      <td>2502982653972912560.1628266799.1628266799</td>\n",
       "      <td>582771062.1627724208</td>\n",
       "      <td>2021-08-06</td>\n",
       "      <td>19:00:00</td>\n",
       "      <td>6</td>\n",
       "      <td>kjsLglQLzykiRbcDiGcD</td>\n",
       "      <td>organic</td>\n",
       "      <td>LTuZkdKfxRGVceoWkVyg</td>\n",
       "      <td>JNHcPlZPxEMWDnRiyoBf</td>\n",
       "      <td>desktop</td>\n",
       "      <td>Windows</td>\n",
       "      <td>custom</td>\n",
       "      <td>1536x864</td>\n",
       "      <td>Firefox</td>\n",
       "      <td>Russia</td>\n",
       "      <td>Moscow</td>\n",
       "      <td>1</td>\n",
       "    </tr>\n",
       "    <tr>\n",
       "      <th>10566794</th>\n",
       "      <td>63501960694916780.1640162989.1640162989</td>\n",
       "      <td>14785202.1640162988</td>\n",
       "      <td>2021-12-22</td>\n",
       "      <td>11:49:49</td>\n",
       "      <td>1</td>\n",
       "      <td>ZpYIoDJMcFzVoPFsHGJL</td>\n",
       "      <td>push</td>\n",
       "      <td>sbJRYgVfvcnqKJNDDYIr</td>\n",
       "      <td>JNHcPlZPxEMWDnRiyoBf</td>\n",
       "      <td>mobile</td>\n",
       "      <td>Android</td>\n",
       "      <td>Samsung</td>\n",
       "      <td>412x915</td>\n",
       "      <td>Chrome</td>\n",
       "      <td>Russia</td>\n",
       "      <td>Moscow</td>\n",
       "      <td>1</td>\n",
       "    </tr>\n",
       "    <tr>\n",
       "      <th>14538018</th>\n",
       "      <td>8447975741139857132.1640115950.1640115969</td>\n",
       "      <td>1966947629.1640115948</td>\n",
       "      <td>2021-12-21</td>\n",
       "      <td>22:46:09</td>\n",
       "      <td>1</td>\n",
       "      <td>bByPQxmDaMXgpHeypKSM</td>\n",
       "      <td>referral</td>\n",
       "      <td>QdLfySaGXolfTBSNVfHn</td>\n",
       "      <td>SOkCdPxfUcZUzzOdgGES</td>\n",
       "      <td>desktop</td>\n",
       "      <td>Windows</td>\n",
       "      <td>custom</td>\n",
       "      <td>1111x625</td>\n",
       "      <td>Chrome</td>\n",
       "      <td>Russia</td>\n",
       "      <td>Kazan</td>\n",
       "      <td>1</td>\n",
       "    </tr>\n",
       "    <tr>\n",
       "      <th>12116165</th>\n",
       "      <td>7169040235355732641.1625062049.1625062049</td>\n",
       "      <td>1669172252.1625062049</td>\n",
       "      <td>2021-06-30</td>\n",
       "      <td>17:00:00</td>\n",
       "      <td>1</td>\n",
       "      <td>ZpYIoDJMcFzVoPFsHGJL</td>\n",
       "      <td>banner</td>\n",
       "      <td>eimRuUrNhZLAYcwRrNXu</td>\n",
       "      <td>JNHcPlZPxEMWDnRiyoBf</td>\n",
       "      <td>mobile</td>\n",
       "      <td>Android</td>\n",
       "      <td>Samsung</td>\n",
       "      <td>339x716</td>\n",
       "      <td>Chrome</td>\n",
       "      <td>Russia</td>\n",
       "      <td>Saint Petersburg</td>\n",
       "      <td>1</td>\n",
       "    </tr>\n",
       "  </tbody>\n",
       "</table>\n",
       "</div>"
      ],
      "text/plain": [
       "                                         session_id              client_id  \\\n",
       "12337081  7284725054902084534.1624538941.1624538941  1696107223.1607705526   \n",
       "3288869   2502982653972912560.1628266799.1628266799   582771062.1627724208   \n",
       "10566794    63501960694916780.1640162989.1640162989    14785202.1640162988   \n",
       "14538018  8447975741139857132.1640115950.1640115969  1966947629.1640115948   \n",
       "12116165  7169040235355732641.1625062049.1625062049  1669172252.1625062049   \n",
       "\n",
       "          visit_date visit_time  visit_number            utm_source  \\\n",
       "12337081  2021-06-24   15:00:00            75  jaSOmLICuBzCFqHfBdRg   \n",
       "3288869   2021-08-06   19:00:00             6  kjsLglQLzykiRbcDiGcD   \n",
       "10566794  2021-12-22   11:49:49             1  ZpYIoDJMcFzVoPFsHGJL   \n",
       "14538018  2021-12-21   22:46:09             1  bByPQxmDaMXgpHeypKSM   \n",
       "12116165  2021-06-30   17:00:00             1  ZpYIoDJMcFzVoPFsHGJL   \n",
       "\n",
       "         utm_medium          utm_campaign         utm_adcontent  \\\n",
       "12337081      email  LliRUcMuIXWdLyWHGyiO  sDWYAbLNiGZVxGBDdTxc   \n",
       "3288869     organic  LTuZkdKfxRGVceoWkVyg  JNHcPlZPxEMWDnRiyoBf   \n",
       "10566794       push  sbJRYgVfvcnqKJNDDYIr  JNHcPlZPxEMWDnRiyoBf   \n",
       "14538018   referral  QdLfySaGXolfTBSNVfHn  SOkCdPxfUcZUzzOdgGES   \n",
       "12116165     banner  eimRuUrNhZLAYcwRrNXu  JNHcPlZPxEMWDnRiyoBf   \n",
       "\n",
       "         device_category device_os device_brand device_screen_resolution  \\\n",
       "12337081         desktop   Windows       custom                 1280x720   \n",
       "3288869          desktop   Windows       custom                 1536x864   \n",
       "10566794          mobile   Android      Samsung                  412x915   \n",
       "14538018         desktop   Windows       custom                 1111x625   \n",
       "12116165          mobile   Android      Samsung                  339x716   \n",
       "\n",
       "         device_browser geo_country          geo_city  event_action  \n",
       "12337081         Chrome      Russia            Moscow             1  \n",
       "3288869         Firefox      Russia            Moscow             1  \n",
       "10566794         Chrome      Russia            Moscow             1  \n",
       "14538018         Chrome      Russia             Kazan             1  \n",
       "12116165         Chrome      Russia  Saint Petersburg             1  "
      ]
     },
     "execution_count": 51,
     "metadata": {},
     "output_type": "execute_result"
    }
   ],
   "source": [
    "df_ones = df_data_prep[~(df_data_prep['event_action'] == 0)]\n",
    "df_ones.head()"
   ]
  },
  {
   "cell_type": "code",
   "execution_count": 52,
   "metadata": {},
   "outputs": [
    {
     "data": {
      "text/html": [
       "<div>\n",
       "<style scoped>\n",
       "    .dataframe tbody tr th:only-of-type {\n",
       "        vertical-align: middle;\n",
       "    }\n",
       "\n",
       "    .dataframe tbody tr th {\n",
       "        vertical-align: top;\n",
       "    }\n",
       "\n",
       "    .dataframe thead th {\n",
       "        text-align: right;\n",
       "    }\n",
       "</style>\n",
       "<table border=\"1\" class=\"dataframe\">\n",
       "  <thead>\n",
       "    <tr style=\"text-align: right;\">\n",
       "      <th></th>\n",
       "      <th>session_id</th>\n",
       "      <th>client_id</th>\n",
       "      <th>visit_date</th>\n",
       "      <th>visit_time</th>\n",
       "      <th>visit_number</th>\n",
       "      <th>utm_source</th>\n",
       "      <th>utm_medium</th>\n",
       "      <th>utm_campaign</th>\n",
       "      <th>utm_adcontent</th>\n",
       "      <th>device_category</th>\n",
       "      <th>device_os</th>\n",
       "      <th>device_brand</th>\n",
       "      <th>device_screen_resolution</th>\n",
       "      <th>device_browser</th>\n",
       "      <th>geo_country</th>\n",
       "      <th>geo_city</th>\n",
       "      <th>event_action</th>\n",
       "    </tr>\n",
       "  </thead>\n",
       "  <tbody>\n",
       "    <tr>\n",
       "      <th>10462439</th>\n",
       "      <td>629540588298749367.1631372732.1631372732</td>\n",
       "      <td>146576340.1631372727</td>\n",
       "      <td>2021-09-11</td>\n",
       "      <td>18:00:00</td>\n",
       "      <td>1</td>\n",
       "      <td>fDLlAcSmythWSCVMvqvL</td>\n",
       "      <td>(none)</td>\n",
       "      <td>LTuZkdKfxRGVceoWkVyg</td>\n",
       "      <td>JNHcPlZPxEMWDnRiyoBf</td>\n",
       "      <td>mobile</td>\n",
       "      <td>Android</td>\n",
       "      <td>Xiaomi</td>\n",
       "      <td>393x851</td>\n",
       "      <td>Android Webview</td>\n",
       "      <td>Russia</td>\n",
       "      <td>Saint Petersburg</td>\n",
       "      <td>0</td>\n",
       "    </tr>\n",
       "    <tr>\n",
       "      <th>10468046</th>\n",
       "      <td>6298572358715201935.1632655759.1632655759</td>\n",
       "      <td>1466500656.1632655759</td>\n",
       "      <td>2021-09-26</td>\n",
       "      <td>14:00:00</td>\n",
       "      <td>1</td>\n",
       "      <td>fDLlAcSmythWSCVMvqvL</td>\n",
       "      <td>(none)</td>\n",
       "      <td>LTuZkdKfxRGVceoWkVyg</td>\n",
       "      <td>JNHcPlZPxEMWDnRiyoBf</td>\n",
       "      <td>mobile</td>\n",
       "      <td>Android</td>\n",
       "      <td>Xiaomi</td>\n",
       "      <td>393x851</td>\n",
       "      <td>Chrome</td>\n",
       "      <td>Russia</td>\n",
       "      <td>Saint Petersburg</td>\n",
       "      <td>0</td>\n",
       "    </tr>\n",
       "    <tr>\n",
       "      <th>10447475</th>\n",
       "      <td>6286287940505890922.1638723693.1638723693</td>\n",
       "      <td>1463640467.1638723690</td>\n",
       "      <td>2021-12-05</td>\n",
       "      <td>20:01:33</td>\n",
       "      <td>1</td>\n",
       "      <td>fDLlAcSmythWSCVMvqvL</td>\n",
       "      <td>(none)</td>\n",
       "      <td>LTuZkdKfxRGVceoWkVyg</td>\n",
       "      <td>JNHcPlZPxEMWDnRiyoBf</td>\n",
       "      <td>mobile</td>\n",
       "      <td>Android</td>\n",
       "      <td>Samsung</td>\n",
       "      <td>360x800</td>\n",
       "      <td>Chrome</td>\n",
       "      <td>Russia</td>\n",
       "      <td>Saint Petersburg</td>\n",
       "      <td>0</td>\n",
       "    </tr>\n",
       "    <tr>\n",
       "      <th>10458104</th>\n",
       "      <td>6293039173822527781.1632581928.1632581928</td>\n",
       "      <td>1465212361.1632581925</td>\n",
       "      <td>2021-09-25</td>\n",
       "      <td>17:00:00</td>\n",
       "      <td>1</td>\n",
       "      <td>fDLlAcSmythWSCVMvqvL</td>\n",
       "      <td>(none)</td>\n",
       "      <td>LTuZkdKfxRGVceoWkVyg</td>\n",
       "      <td>JNHcPlZPxEMWDnRiyoBf</td>\n",
       "      <td>mobile</td>\n",
       "      <td>Android</td>\n",
       "      <td>Samsung</td>\n",
       "      <td>412x915</td>\n",
       "      <td>Chrome</td>\n",
       "      <td>Russia</td>\n",
       "      <td>Moscow</td>\n",
       "      <td>0</td>\n",
       "    </tr>\n",
       "    <tr>\n",
       "      <th>10462803</th>\n",
       "      <td>6295616553621347225.1621842841.1621842841</td>\n",
       "      <td>1465812454.1621842841</td>\n",
       "      <td>2021-05-24</td>\n",
       "      <td>10:00:00</td>\n",
       "      <td>1</td>\n",
       "      <td>aXQzDWsJuGXeBXexNHjc</td>\n",
       "      <td>referral</td>\n",
       "      <td>LTuZkdKfxRGVceoWkVyg</td>\n",
       "      <td>JNHcPlZPxEMWDnRiyoBf</td>\n",
       "      <td>desktop</td>\n",
       "      <td>Windows</td>\n",
       "      <td>custom</td>\n",
       "      <td>1920x1200</td>\n",
       "      <td>Chrome</td>\n",
       "      <td>Russia</td>\n",
       "      <td>Moscow</td>\n",
       "      <td>0</td>\n",
       "    </tr>\n",
       "  </tbody>\n",
       "</table>\n",
       "</div>"
      ],
      "text/plain": [
       "                                         session_id              client_id  \\\n",
       "10462439   629540588298749367.1631372732.1631372732   146576340.1631372727   \n",
       "10468046  6298572358715201935.1632655759.1632655759  1466500656.1632655759   \n",
       "10447475  6286287940505890922.1638723693.1638723693  1463640467.1638723690   \n",
       "10458104  6293039173822527781.1632581928.1632581928  1465212361.1632581925   \n",
       "10462803  6295616553621347225.1621842841.1621842841  1465812454.1621842841   \n",
       "\n",
       "          visit_date visit_time  visit_number            utm_source  \\\n",
       "10462439  2021-09-11   18:00:00             1  fDLlAcSmythWSCVMvqvL   \n",
       "10468046  2021-09-26   14:00:00             1  fDLlAcSmythWSCVMvqvL   \n",
       "10447475  2021-12-05   20:01:33             1  fDLlAcSmythWSCVMvqvL   \n",
       "10458104  2021-09-25   17:00:00             1  fDLlAcSmythWSCVMvqvL   \n",
       "10462803  2021-05-24   10:00:00             1  aXQzDWsJuGXeBXexNHjc   \n",
       "\n",
       "         utm_medium          utm_campaign         utm_adcontent  \\\n",
       "10462439     (none)  LTuZkdKfxRGVceoWkVyg  JNHcPlZPxEMWDnRiyoBf   \n",
       "10468046     (none)  LTuZkdKfxRGVceoWkVyg  JNHcPlZPxEMWDnRiyoBf   \n",
       "10447475     (none)  LTuZkdKfxRGVceoWkVyg  JNHcPlZPxEMWDnRiyoBf   \n",
       "10458104     (none)  LTuZkdKfxRGVceoWkVyg  JNHcPlZPxEMWDnRiyoBf   \n",
       "10462803   referral  LTuZkdKfxRGVceoWkVyg  JNHcPlZPxEMWDnRiyoBf   \n",
       "\n",
       "         device_category device_os device_brand device_screen_resolution  \\\n",
       "10462439          mobile   Android       Xiaomi                  393x851   \n",
       "10468046          mobile   Android       Xiaomi                  393x851   \n",
       "10447475          mobile   Android      Samsung                  360x800   \n",
       "10458104          mobile   Android      Samsung                  412x915   \n",
       "10462803         desktop   Windows       custom                1920x1200   \n",
       "\n",
       "           device_browser geo_country          geo_city  event_action  \n",
       "10462439  Android Webview      Russia  Saint Petersburg             0  \n",
       "10468046           Chrome      Russia  Saint Petersburg             0  \n",
       "10447475           Chrome      Russia  Saint Petersburg             0  \n",
       "10458104           Chrome      Russia            Moscow             0  \n",
       "10462803           Chrome      Russia            Moscow             0  "
      ]
     },
     "execution_count": 52,
     "metadata": {},
     "output_type": "execute_result"
    }
   ],
   "source": [
    "df_zeros = df_data_prep[~(df_data_prep['event_action'] == 1)]\n",
    "df_zeros.head()"
   ]
  },
  {
   "cell_type": "markdown",
   "metadata": {},
   "source": [
    "### 2.2.3 Getting jsons for sending to the model"
   ]
  },
  {
   "cell_type": "code",
   "execution_count": 81,
   "metadata": {},
   "outputs": [],
   "source": [
    "# import random\n",
    "\n",
    "# def get_jsons_from_df(n, df):\n",
    "#     for _ in range(n):\n",
    "#         row_number = random.randint(1, 1000000)\n",
    "#         row = df.loc[row_number]\n",
    "#         row_df = row.to_frame().T\n",
    "#         row_df.to_json('requests/row_' + str(row_number) + '.json', orient='records', lines=True)\n",
    "\n",
    "# quantity = 10\n",
    "# get_jsons_from_df(quantity, df_sessions)"
   ]
  },
  {
   "cell_type": "markdown",
   "metadata": {},
   "source": [
    "# 3. Feature Engineering"
   ]
  },
  {
   "cell_type": "code",
   "execution_count": 86,
   "metadata": {},
   "outputs": [],
   "source": [
    "df_feat_eng = df_data_prep.copy()"
   ]
  },
  {
   "cell_type": "markdown",
   "metadata": {},
   "source": [
    "## 3.1 Dates"
   ]
  },
  {
   "cell_type": "code",
   "execution_count": 87,
   "metadata": {},
   "outputs": [],
   "source": [
    "df_feat_eng.visit_date = pd.to_datetime(df_feat_eng.visit_date)"
   ]
  },
  {
   "cell_type": "code",
   "execution_count": 88,
   "metadata": {},
   "outputs": [],
   "source": [
    "df_feat_eng[\"visit_month\"] = df_feat_eng.visit_date.dt.month\n",
    "df_feat_eng[\"visit_day\"] = df_feat_eng.visit_date.dt.day\n",
    "df_feat_eng[\"visit_dayofweek\"] = df_feat_eng.visit_date.dt.day_of_week\n",
    "df_feat_eng[\"visit_year\"] = df_feat_eng.visit_date.dt.year"
   ]
  },
  {
   "cell_type": "code",
   "execution_count": 89,
   "metadata": {},
   "outputs": [],
   "source": [
    "# csv_filename = 'holidays_list.csv'\n",
    "\n",
    "# with open(csv_filename, mode='w', newline='') as file:\n",
    "#     writer = csv.writer(file)\n",
    "#     for i in holidays_list:\n",
    "#         writer.writerow(i)"
   ]
  },
  {
   "cell_type": "code",
   "execution_count": 90,
   "metadata": {},
   "outputs": [],
   "source": [
    "def get_holidays_list():\n",
    "    holidays_list = []\n",
    "\n",
    "    with open('holidays_list.csv', mode='r', newline='') as file:\n",
    "        reader = csv.reader(file)\n",
    "        for row in reader:\n",
    "            holiday_row = tuple(map(int, row))\n",
    "            holidays_list.append(holiday_row)\n",
    "\n",
    "    # Выводим полученный список кортежей\n",
    "    return holidays_list"
   ]
  },
  {
   "cell_type": "code",
   "execution_count": 91,
   "metadata": {},
   "outputs": [],
   "source": [
    "holidays_list = get_holidays_list()\n",
    "df_feat_eng[\"day_category\"] = df_feat_eng.apply(\n",
    "    lambda x: 'holiday' if (x.visit_month, x.visit_day) in holidays_list\n",
    "    else ('workday' if x.visit_dayofweek < 6 else 'weekend'\n",
    "          ), axis=1\n",
    ")"
   ]
  },
  {
   "cell_type": "code",
   "execution_count": 92,
   "metadata": {},
   "outputs": [
    {
     "data": {
      "text/plain": [
       "day_category\n",
       "workday    1511487\n",
       "weekend     210556\n",
       "holiday       9914\n",
       "Name: count, dtype: int64"
      ]
     },
     "execution_count": 92,
     "metadata": {},
     "output_type": "execute_result"
    }
   ],
   "source": [
    "df_feat_eng.day_category.value_counts()"
   ]
  },
  {
   "cell_type": "code",
   "execution_count": 93,
   "metadata": {},
   "outputs": [
    {
     "data": {
      "text/plain": [
       "season\n",
       "autumn    771004\n",
       "summer    490333\n",
       "winter    366029\n",
       "spring    104591\n",
       "Name: count, dtype: int64"
      ]
     },
     "execution_count": 93,
     "metadata": {},
     "output_type": "execute_result"
    }
   ],
   "source": [
    "df_feat_eng[\"season\"] = df_feat_eng.visit_month.apply(\n",
    "    lambda x: 'winter' if x == 12 or x == 1 or x == 2 \n",
    "    else ('spring' if x < 6 else ('summer' if x < 9 else 'autumn'))\n",
    "    )\n",
    "\n",
    "df_feat_eng.season.value_counts()"
   ]
  },
  {
   "cell_type": "markdown",
   "metadata": {},
   "source": [
    "## 3.2 Time"
   ]
  },
  {
   "cell_type": "markdown",
   "metadata": {},
   "source": [
    "Converting time into 4 categories: morning, morning_rush_hour, workhour, evening_rush_hour and evening."
   ]
  },
  {
   "cell_type": "code",
   "execution_count": 94,
   "metadata": {},
   "outputs": [],
   "source": [
    "df_feat_eng[\"visit_time_category\"] = df_feat_eng.visit_time.apply(\n",
    "    lambda x: 'night' if int(x[:2]) < 5 \n",
    "        else ('morning' if int(x[:2]) < 8 \n",
    "              else ('morning_rush' if int(x[:2]) < 10 \n",
    "                else ('workhour' if int(x[:2]) < 17 \n",
    "                    else ('evening_rush' if int(x[:2]) < 19\n",
    "                        else 'evening'\n",
    "                        )\n",
    "                    )\n",
    "                )\n",
    "            )\n",
    "        )\n",
    "            \n"
   ]
  },
  {
   "cell_type": "code",
   "execution_count": 95,
   "metadata": {},
   "outputs": [
    {
     "data": {
      "text/plain": [
       "visit_time_category\n",
       "workhour        676767\n",
       "evening         441043\n",
       "evening_rush    188924\n",
       "night           163969\n",
       "morning_rush    152291\n",
       "morning         108963\n",
       "Name: count, dtype: int64"
      ]
     },
     "execution_count": 95,
     "metadata": {},
     "output_type": "execute_result"
    }
   ],
   "source": [
    "df_feat_eng.visit_time_category.value_counts()"
   ]
  },
  {
   "cell_type": "code",
   "execution_count": 96,
   "metadata": {},
   "outputs": [
    {
     "data": {
      "text/html": [
       "<div>\n",
       "<style scoped>\n",
       "    .dataframe tbody tr th:only-of-type {\n",
       "        vertical-align: middle;\n",
       "    }\n",
       "\n",
       "    .dataframe tbody tr th {\n",
       "        vertical-align: top;\n",
       "    }\n",
       "\n",
       "    .dataframe thead th {\n",
       "        text-align: right;\n",
       "    }\n",
       "</style>\n",
       "<table border=\"1\" class=\"dataframe\">\n",
       "  <thead>\n",
       "    <tr style=\"text-align: right;\">\n",
       "      <th></th>\n",
       "      <th>session_id</th>\n",
       "      <th>client_id</th>\n",
       "      <th>visit_date</th>\n",
       "      <th>visit_time</th>\n",
       "      <th>visit_number</th>\n",
       "      <th>utm_source</th>\n",
       "      <th>utm_medium</th>\n",
       "      <th>utm_campaign</th>\n",
       "      <th>utm_adcontent</th>\n",
       "      <th>device_category</th>\n",
       "      <th>...</th>\n",
       "      <th>geo_country</th>\n",
       "      <th>geo_city</th>\n",
       "      <th>event_action</th>\n",
       "      <th>visit_month</th>\n",
       "      <th>visit_day</th>\n",
       "      <th>visit_dayofweek</th>\n",
       "      <th>visit_year</th>\n",
       "      <th>day_category</th>\n",
       "      <th>season</th>\n",
       "      <th>visit_time_category</th>\n",
       "    </tr>\n",
       "  </thead>\n",
       "  <tbody>\n",
       "    <tr>\n",
       "      <th>12337081</th>\n",
       "      <td>7284725054902084534.1624538941.1624538941</td>\n",
       "      <td>1696107223.1607705526</td>\n",
       "      <td>2021-06-24</td>\n",
       "      <td>15:00:00</td>\n",
       "      <td>75</td>\n",
       "      <td>jaSOmLICuBzCFqHfBdRg</td>\n",
       "      <td>email</td>\n",
       "      <td>LliRUcMuIXWdLyWHGyiO</td>\n",
       "      <td>sDWYAbLNiGZVxGBDdTxc</td>\n",
       "      <td>desktop</td>\n",
       "      <td>...</td>\n",
       "      <td>Russia</td>\n",
       "      <td>Moscow</td>\n",
       "      <td>1</td>\n",
       "      <td>6</td>\n",
       "      <td>24</td>\n",
       "      <td>3</td>\n",
       "      <td>2021</td>\n",
       "      <td>workday</td>\n",
       "      <td>summer</td>\n",
       "      <td>workhour</td>\n",
       "    </tr>\n",
       "    <tr>\n",
       "      <th>3288869</th>\n",
       "      <td>2502982653972912560.1628266799.1628266799</td>\n",
       "      <td>582771062.1627724208</td>\n",
       "      <td>2021-08-06</td>\n",
       "      <td>19:00:00</td>\n",
       "      <td>6</td>\n",
       "      <td>kjsLglQLzykiRbcDiGcD</td>\n",
       "      <td>organic</td>\n",
       "      <td>LTuZkdKfxRGVceoWkVyg</td>\n",
       "      <td>JNHcPlZPxEMWDnRiyoBf</td>\n",
       "      <td>desktop</td>\n",
       "      <td>...</td>\n",
       "      <td>Russia</td>\n",
       "      <td>Moscow</td>\n",
       "      <td>1</td>\n",
       "      <td>8</td>\n",
       "      <td>6</td>\n",
       "      <td>4</td>\n",
       "      <td>2021</td>\n",
       "      <td>workday</td>\n",
       "      <td>summer</td>\n",
       "      <td>evening</td>\n",
       "    </tr>\n",
       "    <tr>\n",
       "      <th>10566794</th>\n",
       "      <td>63501960694916780.1640162989.1640162989</td>\n",
       "      <td>14785202.1640162988</td>\n",
       "      <td>2021-12-22</td>\n",
       "      <td>11:49:49</td>\n",
       "      <td>1</td>\n",
       "      <td>ZpYIoDJMcFzVoPFsHGJL</td>\n",
       "      <td>push</td>\n",
       "      <td>sbJRYgVfvcnqKJNDDYIr</td>\n",
       "      <td>JNHcPlZPxEMWDnRiyoBf</td>\n",
       "      <td>mobile</td>\n",
       "      <td>...</td>\n",
       "      <td>Russia</td>\n",
       "      <td>Moscow</td>\n",
       "      <td>1</td>\n",
       "      <td>12</td>\n",
       "      <td>22</td>\n",
       "      <td>2</td>\n",
       "      <td>2021</td>\n",
       "      <td>workday</td>\n",
       "      <td>winter</td>\n",
       "      <td>workhour</td>\n",
       "    </tr>\n",
       "    <tr>\n",
       "      <th>14538018</th>\n",
       "      <td>8447975741139857132.1640115950.1640115969</td>\n",
       "      <td>1966947629.1640115948</td>\n",
       "      <td>2021-12-21</td>\n",
       "      <td>22:46:09</td>\n",
       "      <td>1</td>\n",
       "      <td>bByPQxmDaMXgpHeypKSM</td>\n",
       "      <td>referral</td>\n",
       "      <td>QdLfySaGXolfTBSNVfHn</td>\n",
       "      <td>SOkCdPxfUcZUzzOdgGES</td>\n",
       "      <td>desktop</td>\n",
       "      <td>...</td>\n",
       "      <td>Russia</td>\n",
       "      <td>Kazan</td>\n",
       "      <td>1</td>\n",
       "      <td>12</td>\n",
       "      <td>21</td>\n",
       "      <td>1</td>\n",
       "      <td>2021</td>\n",
       "      <td>workday</td>\n",
       "      <td>winter</td>\n",
       "      <td>evening</td>\n",
       "    </tr>\n",
       "    <tr>\n",
       "      <th>12116165</th>\n",
       "      <td>7169040235355732641.1625062049.1625062049</td>\n",
       "      <td>1669172252.1625062049</td>\n",
       "      <td>2021-06-30</td>\n",
       "      <td>17:00:00</td>\n",
       "      <td>1</td>\n",
       "      <td>ZpYIoDJMcFzVoPFsHGJL</td>\n",
       "      <td>banner</td>\n",
       "      <td>eimRuUrNhZLAYcwRrNXu</td>\n",
       "      <td>JNHcPlZPxEMWDnRiyoBf</td>\n",
       "      <td>mobile</td>\n",
       "      <td>...</td>\n",
       "      <td>Russia</td>\n",
       "      <td>Saint Petersburg</td>\n",
       "      <td>1</td>\n",
       "      <td>6</td>\n",
       "      <td>30</td>\n",
       "      <td>2</td>\n",
       "      <td>2021</td>\n",
       "      <td>workday</td>\n",
       "      <td>summer</td>\n",
       "      <td>evening_rush</td>\n",
       "    </tr>\n",
       "  </tbody>\n",
       "</table>\n",
       "<p>5 rows × 24 columns</p>\n",
       "</div>"
      ],
      "text/plain": [
       "                                         session_id              client_id  \\\n",
       "12337081  7284725054902084534.1624538941.1624538941  1696107223.1607705526   \n",
       "3288869   2502982653972912560.1628266799.1628266799   582771062.1627724208   \n",
       "10566794    63501960694916780.1640162989.1640162989    14785202.1640162988   \n",
       "14538018  8447975741139857132.1640115950.1640115969  1966947629.1640115948   \n",
       "12116165  7169040235355732641.1625062049.1625062049  1669172252.1625062049   \n",
       "\n",
       "         visit_date visit_time  visit_number            utm_source utm_medium  \\\n",
       "12337081 2021-06-24   15:00:00            75  jaSOmLICuBzCFqHfBdRg      email   \n",
       "3288869  2021-08-06   19:00:00             6  kjsLglQLzykiRbcDiGcD    organic   \n",
       "10566794 2021-12-22   11:49:49             1  ZpYIoDJMcFzVoPFsHGJL       push   \n",
       "14538018 2021-12-21   22:46:09             1  bByPQxmDaMXgpHeypKSM   referral   \n",
       "12116165 2021-06-30   17:00:00             1  ZpYIoDJMcFzVoPFsHGJL     banner   \n",
       "\n",
       "                  utm_campaign         utm_adcontent device_category  ...  \\\n",
       "12337081  LliRUcMuIXWdLyWHGyiO  sDWYAbLNiGZVxGBDdTxc         desktop  ...   \n",
       "3288869   LTuZkdKfxRGVceoWkVyg  JNHcPlZPxEMWDnRiyoBf         desktop  ...   \n",
       "10566794  sbJRYgVfvcnqKJNDDYIr  JNHcPlZPxEMWDnRiyoBf          mobile  ...   \n",
       "14538018  QdLfySaGXolfTBSNVfHn  SOkCdPxfUcZUzzOdgGES         desktop  ...   \n",
       "12116165  eimRuUrNhZLAYcwRrNXu  JNHcPlZPxEMWDnRiyoBf          mobile  ...   \n",
       "\n",
       "         geo_country          geo_city event_action visit_month visit_day  \\\n",
       "12337081      Russia            Moscow            1           6        24   \n",
       "3288869       Russia            Moscow            1           8         6   \n",
       "10566794      Russia            Moscow            1          12        22   \n",
       "14538018      Russia             Kazan            1          12        21   \n",
       "12116165      Russia  Saint Petersburg            1           6        30   \n",
       "\n",
       "         visit_dayofweek  visit_year  day_category  season  \\\n",
       "12337081               3        2021       workday  summer   \n",
       "3288869                4        2021       workday  summer   \n",
       "10566794               2        2021       workday  winter   \n",
       "14538018               1        2021       workday  winter   \n",
       "12116165               2        2021       workday  summer   \n",
       "\n",
       "          visit_time_category  \n",
       "12337081             workhour  \n",
       "3288869               evening  \n",
       "10566794             workhour  \n",
       "14538018              evening  \n",
       "12116165         evening_rush  \n",
       "\n",
       "[5 rows x 24 columns]"
      ]
     },
     "execution_count": 96,
     "metadata": {},
     "output_type": "execute_result"
    }
   ],
   "source": [
    "df_feat_eng.head()"
   ]
  },
  {
   "cell_type": "markdown",
   "metadata": {},
   "source": [
    "## 3.3 Screen Resolution"
   ]
  },
  {
   "cell_type": "code",
   "execution_count": 97,
   "metadata": {},
   "outputs": [
    {
     "data": {
      "text/plain": [
       "4947"
      ]
     },
     "execution_count": 97,
     "metadata": {},
     "output_type": "execute_result"
    }
   ],
   "source": [
    "df_feat_eng.device_screen_resolution.nunique()"
   ]
  },
  {
   "cell_type": "code",
   "execution_count": 98,
   "metadata": {},
   "outputs": [
    {
     "data": {
      "text/html": [
       "<div>\n",
       "<style scoped>\n",
       "    .dataframe tbody tr th:only-of-type {\n",
       "        vertical-align: middle;\n",
       "    }\n",
       "\n",
       "    .dataframe tbody tr th {\n",
       "        vertical-align: top;\n",
       "    }\n",
       "\n",
       "    .dataframe thead th {\n",
       "        text-align: right;\n",
       "    }\n",
       "</style>\n",
       "<table border=\"1\" class=\"dataframe\">\n",
       "  <thead>\n",
       "    <tr style=\"text-align: right;\">\n",
       "      <th></th>\n",
       "      <th>session_id</th>\n",
       "      <th>client_id</th>\n",
       "      <th>visit_date</th>\n",
       "      <th>visit_time</th>\n",
       "      <th>visit_number</th>\n",
       "      <th>utm_source</th>\n",
       "      <th>utm_medium</th>\n",
       "      <th>utm_campaign</th>\n",
       "      <th>utm_adcontent</th>\n",
       "      <th>device_category</th>\n",
       "      <th>...</th>\n",
       "      <th>geo_city</th>\n",
       "      <th>event_action</th>\n",
       "      <th>visit_month</th>\n",
       "      <th>visit_day</th>\n",
       "      <th>visit_dayofweek</th>\n",
       "      <th>visit_year</th>\n",
       "      <th>day_category</th>\n",
       "      <th>season</th>\n",
       "      <th>visit_time_category</th>\n",
       "      <th>device_screen_area</th>\n",
       "    </tr>\n",
       "  </thead>\n",
       "  <tbody>\n",
       "    <tr>\n",
       "      <th>12337081</th>\n",
       "      <td>7284725054902084534.1624538941.1624538941</td>\n",
       "      <td>1696107223.1607705526</td>\n",
       "      <td>2021-06-24</td>\n",
       "      <td>15:00:00</td>\n",
       "      <td>75</td>\n",
       "      <td>jaSOmLICuBzCFqHfBdRg</td>\n",
       "      <td>email</td>\n",
       "      <td>LliRUcMuIXWdLyWHGyiO</td>\n",
       "      <td>sDWYAbLNiGZVxGBDdTxc</td>\n",
       "      <td>desktop</td>\n",
       "      <td>...</td>\n",
       "      <td>Moscow</td>\n",
       "      <td>1</td>\n",
       "      <td>6</td>\n",
       "      <td>24</td>\n",
       "      <td>3</td>\n",
       "      <td>2021</td>\n",
       "      <td>workday</td>\n",
       "      <td>summer</td>\n",
       "      <td>workhour</td>\n",
       "      <td>921600</td>\n",
       "    </tr>\n",
       "    <tr>\n",
       "      <th>3288869</th>\n",
       "      <td>2502982653972912560.1628266799.1628266799</td>\n",
       "      <td>582771062.1627724208</td>\n",
       "      <td>2021-08-06</td>\n",
       "      <td>19:00:00</td>\n",
       "      <td>6</td>\n",
       "      <td>kjsLglQLzykiRbcDiGcD</td>\n",
       "      <td>organic</td>\n",
       "      <td>LTuZkdKfxRGVceoWkVyg</td>\n",
       "      <td>JNHcPlZPxEMWDnRiyoBf</td>\n",
       "      <td>desktop</td>\n",
       "      <td>...</td>\n",
       "      <td>Moscow</td>\n",
       "      <td>1</td>\n",
       "      <td>8</td>\n",
       "      <td>6</td>\n",
       "      <td>4</td>\n",
       "      <td>2021</td>\n",
       "      <td>workday</td>\n",
       "      <td>summer</td>\n",
       "      <td>evening</td>\n",
       "      <td>1327104</td>\n",
       "    </tr>\n",
       "    <tr>\n",
       "      <th>10566794</th>\n",
       "      <td>63501960694916780.1640162989.1640162989</td>\n",
       "      <td>14785202.1640162988</td>\n",
       "      <td>2021-12-22</td>\n",
       "      <td>11:49:49</td>\n",
       "      <td>1</td>\n",
       "      <td>ZpYIoDJMcFzVoPFsHGJL</td>\n",
       "      <td>push</td>\n",
       "      <td>sbJRYgVfvcnqKJNDDYIr</td>\n",
       "      <td>JNHcPlZPxEMWDnRiyoBf</td>\n",
       "      <td>mobile</td>\n",
       "      <td>...</td>\n",
       "      <td>Moscow</td>\n",
       "      <td>1</td>\n",
       "      <td>12</td>\n",
       "      <td>22</td>\n",
       "      <td>2</td>\n",
       "      <td>2021</td>\n",
       "      <td>workday</td>\n",
       "      <td>winter</td>\n",
       "      <td>workhour</td>\n",
       "      <td>376980</td>\n",
       "    </tr>\n",
       "    <tr>\n",
       "      <th>14538018</th>\n",
       "      <td>8447975741139857132.1640115950.1640115969</td>\n",
       "      <td>1966947629.1640115948</td>\n",
       "      <td>2021-12-21</td>\n",
       "      <td>22:46:09</td>\n",
       "      <td>1</td>\n",
       "      <td>bByPQxmDaMXgpHeypKSM</td>\n",
       "      <td>referral</td>\n",
       "      <td>QdLfySaGXolfTBSNVfHn</td>\n",
       "      <td>SOkCdPxfUcZUzzOdgGES</td>\n",
       "      <td>desktop</td>\n",
       "      <td>...</td>\n",
       "      <td>Kazan</td>\n",
       "      <td>1</td>\n",
       "      <td>12</td>\n",
       "      <td>21</td>\n",
       "      <td>1</td>\n",
       "      <td>2021</td>\n",
       "      <td>workday</td>\n",
       "      <td>winter</td>\n",
       "      <td>evening</td>\n",
       "      <td>694375</td>\n",
       "    </tr>\n",
       "    <tr>\n",
       "      <th>12116165</th>\n",
       "      <td>7169040235355732641.1625062049.1625062049</td>\n",
       "      <td>1669172252.1625062049</td>\n",
       "      <td>2021-06-30</td>\n",
       "      <td>17:00:00</td>\n",
       "      <td>1</td>\n",
       "      <td>ZpYIoDJMcFzVoPFsHGJL</td>\n",
       "      <td>banner</td>\n",
       "      <td>eimRuUrNhZLAYcwRrNXu</td>\n",
       "      <td>JNHcPlZPxEMWDnRiyoBf</td>\n",
       "      <td>mobile</td>\n",
       "      <td>...</td>\n",
       "      <td>Saint Petersburg</td>\n",
       "      <td>1</td>\n",
       "      <td>6</td>\n",
       "      <td>30</td>\n",
       "      <td>2</td>\n",
       "      <td>2021</td>\n",
       "      <td>workday</td>\n",
       "      <td>summer</td>\n",
       "      <td>evening_rush</td>\n",
       "      <td>242724</td>\n",
       "    </tr>\n",
       "  </tbody>\n",
       "</table>\n",
       "<p>5 rows × 25 columns</p>\n",
       "</div>"
      ],
      "text/plain": [
       "                                         session_id              client_id  \\\n",
       "12337081  7284725054902084534.1624538941.1624538941  1696107223.1607705526   \n",
       "3288869   2502982653972912560.1628266799.1628266799   582771062.1627724208   \n",
       "10566794    63501960694916780.1640162989.1640162989    14785202.1640162988   \n",
       "14538018  8447975741139857132.1640115950.1640115969  1966947629.1640115948   \n",
       "12116165  7169040235355732641.1625062049.1625062049  1669172252.1625062049   \n",
       "\n",
       "         visit_date visit_time  visit_number            utm_source utm_medium  \\\n",
       "12337081 2021-06-24   15:00:00            75  jaSOmLICuBzCFqHfBdRg      email   \n",
       "3288869  2021-08-06   19:00:00             6  kjsLglQLzykiRbcDiGcD    organic   \n",
       "10566794 2021-12-22   11:49:49             1  ZpYIoDJMcFzVoPFsHGJL       push   \n",
       "14538018 2021-12-21   22:46:09             1  bByPQxmDaMXgpHeypKSM   referral   \n",
       "12116165 2021-06-30   17:00:00             1  ZpYIoDJMcFzVoPFsHGJL     banner   \n",
       "\n",
       "                  utm_campaign         utm_adcontent device_category  ...  \\\n",
       "12337081  LliRUcMuIXWdLyWHGyiO  sDWYAbLNiGZVxGBDdTxc         desktop  ...   \n",
       "3288869   LTuZkdKfxRGVceoWkVyg  JNHcPlZPxEMWDnRiyoBf         desktop  ...   \n",
       "10566794  sbJRYgVfvcnqKJNDDYIr  JNHcPlZPxEMWDnRiyoBf          mobile  ...   \n",
       "14538018  QdLfySaGXolfTBSNVfHn  SOkCdPxfUcZUzzOdgGES         desktop  ...   \n",
       "12116165  eimRuUrNhZLAYcwRrNXu  JNHcPlZPxEMWDnRiyoBf          mobile  ...   \n",
       "\n",
       "                  geo_city event_action visit_month visit_day visit_dayofweek  \\\n",
       "12337081            Moscow            1           6        24               3   \n",
       "3288869             Moscow            1           8         6               4   \n",
       "10566794            Moscow            1          12        22               2   \n",
       "14538018             Kazan            1          12        21               1   \n",
       "12116165  Saint Petersburg            1           6        30               2   \n",
       "\n",
       "         visit_year  day_category  season  visit_time_category  \\\n",
       "12337081       2021       workday  summer             workhour   \n",
       "3288869        2021       workday  summer              evening   \n",
       "10566794       2021       workday  winter             workhour   \n",
       "14538018       2021       workday  winter              evening   \n",
       "12116165       2021       workday  summer         evening_rush   \n",
       "\n",
       "          device_screen_area  \n",
       "12337081              921600  \n",
       "3288869              1327104  \n",
       "10566794              376980  \n",
       "14538018              694375  \n",
       "12116165              242724  \n",
       "\n",
       "[5 rows x 25 columns]"
      ]
     },
     "execution_count": 98,
     "metadata": {},
     "output_type": "execute_result"
    }
   ],
   "source": [
    "df_feat_eng['device_screen_area'] = df_feat_eng.device_screen_resolution.apply(\n",
    "    lambda x: int(x.split(\"x\")[0]) * int(x.split(\"x\")[1])\n",
    ")\n",
    "df_feat_eng.head()"
   ]
  },
  {
   "cell_type": "code",
   "execution_count": 99,
   "metadata": {},
   "outputs": [
    {
     "data": {
      "text/plain": [
       "screen_category\n",
       "big_mobile        1338118\n",
       "big_desktop        305309\n",
       "medium_desktop      35156\n",
       "medium_mobile       30525\n",
       "big_tablet          10579\n",
       "small_desktop        6124\n",
       "medium_tablet        4804\n",
       "small_tablet         1313\n",
       "small_mobile           29\n",
       "Name: count, dtype: int64"
      ]
     },
     "execution_count": 99,
     "metadata": {},
     "output_type": "execute_result"
    }
   ],
   "source": [
    "def categorize_device(row):\n",
    "    category = row['device_category']\n",
    "    area = row['device_screen_area']\n",
    "    \n",
    "    if category == 'mobile':\n",
    "        if area < 130000:\n",
    "            return 'small_mobile'\n",
    "        elif area < 200000:\n",
    "            return 'medium_mobile'\n",
    "        else:\n",
    "            return 'big_mobile'\n",
    "    elif category == 'desktop':\n",
    "        if area < 500000:\n",
    "            return 'small_desktop'\n",
    "        elif area < 1000000:\n",
    "            return 'medium_desktop'\n",
    "        else:\n",
    "            return 'big_desktop'\n",
    "    elif category == 'tablet':\n",
    "        if area < 300000:\n",
    "            return 'small_tablet'\n",
    "        elif area < 600000:\n",
    "            return 'medium_tablet'\n",
    "        else:\n",
    "            return 'big_tablet'\n",
    "    else:\n",
    "        return 'unknown'\n",
    "\n",
    "df_feat_eng['screen_category'] = df_feat_eng.apply(categorize_device, axis=1)\n",
    "\n",
    "df_feat_eng.screen_category.value_counts()"
   ]
  },
  {
   "cell_type": "markdown",
   "metadata": {},
   "source": [
    "## 3.4 Cities"
   ]
  },
  {
   "cell_type": "markdown",
   "metadata": {},
   "source": [
    "### 3.4.1 Preparation"
   ]
  },
  {
   "cell_type": "code",
   "execution_count": 100,
   "metadata": {},
   "outputs": [
    {
     "data": {
      "text/plain": [
       "2386"
      ]
     },
     "execution_count": 100,
     "metadata": {},
     "output_type": "execute_result"
    }
   ],
   "source": [
    "all_cities = df_feat_eng.geo_city.unique().tolist()\n",
    "len(all_cities)"
   ]
  },
  {
   "cell_type": "code",
   "execution_count": 101,
   "metadata": {},
   "outputs": [],
   "source": [
    "# csv_filename = 'lat_long.csv'\n",
    "# coordinates = {}\n",
    "\n",
    "# with open(csv_filename, mode='r') as file:\n",
    "#     reader = csv.reader(file)\n",
    "#     # Пропускаем заголовок\n",
    "#     next(reader)\n",
    "#     # Наполнение словаря\n",
    "#     for row in reader:\n",
    "#         key = row[0]\n",
    "#         value = eval(row[1])\n",
    "#         coordinates[key] = value\n",
    "\n",
    "# len(coordinates)"
   ]
  },
  {
   "cell_type": "code",
   "execution_count": 102,
   "metadata": {},
   "outputs": [],
   "source": [
    "# coordinates"
   ]
  },
  {
   "cell_type": "code",
   "execution_count": 103,
   "metadata": {},
   "outputs": [],
   "source": [
    "# for city in coordinates.keys():\n",
    "#     city.replace(\"'\", \"\")\n",
    "\n",
    "# for _ in range(5):\n",
    "#     if \"'\" in coordinates.keys():\n",
    "#         print(city)"
   ]
  },
  {
   "cell_type": "code",
   "execution_count": 104,
   "metadata": {},
   "outputs": [],
   "source": [
    "# cities_in_coordinates = coordinates.keys()\n",
    "# cities_in_coordinates"
   ]
  },
  {
   "cell_type": "code",
   "execution_count": 105,
   "metadata": {},
   "outputs": [],
   "source": [
    "# difference = all_cities - cities_in_coordinates\n",
    "# difference"
   ]
  },
  {
   "cell_type": "code",
   "execution_count": 106,
   "metadata": {},
   "outputs": [],
   "source": [
    "# geolocator = Nominatim(user_agent=\"geoapiExercises\")\n",
    "# geocode = RateLimiter(geolocator.geocode, min_delay_seconds=1)\n",
    "# location = geolocator.geocode('Moscow')\n",
    "# coordinates['Moscow'] = location.latitude, location.longitude\n"
   ]
  },
  {
   "cell_type": "code",
   "execution_count": 107,
   "metadata": {},
   "outputs": [],
   "source": [
    "# Nominatim initialization\n",
    "# geolocator = Nominatim(user_agent=\"geoapiExercises\")\n",
    "# geocode = RateLimiter(geolocator.geocode, min_delay_seconds=1)\n",
    "# import time\n",
    "\n",
    "# for city_name in difference:\n",
    "#     time.sleep(1)\n",
    "#     try:\n",
    "#         location = geolocator.geocode(city_name)\n",
    "#         coordinates[city_name] = location.latitude, location.longitude\n",
    "#     except Exception as error:\n",
    "#         print(f\"Ошибка при обработке города {city_name}: {error}\")\n"
   ]
  },
  {
   "cell_type": "code",
   "execution_count": 108,
   "metadata": {},
   "outputs": [],
   "source": [
    "# geolocator = Nominatim(user_agent=\"geoapiExercises\")\n",
    "# lat, long = 55.7419774, 52.399207\n",
    "# location = geolocator.reverse((lat, long), exactly_one=True)\n",
    "# address = location.raw.get('address', {})\n",
    "# address"
   ]
  },
  {
   "cell_type": "code",
   "execution_count": 109,
   "metadata": {},
   "outputs": [],
   "source": [
    "# len(coordinates)"
   ]
  },
  {
   "cell_type": "code",
   "execution_count": 110,
   "metadata": {},
   "outputs": [],
   "source": [
    "# Nominatim initialization\n",
    "# geolocator = Nominatim(user_agent=\"geoapiExercises\")\n",
    "# geocode = RateLimiter(geolocator.geocode, min_delay_seconds=1)\n",
    "# import time\n",
    "\n",
    "# # coordinates = dict()\n",
    "\n",
    "# # Coordinates extraction function\n",
    "# def get_coordinates(city_name):\n",
    "#     if city_name in coordinates.keys():\n",
    "#         return coordinates[city_name][0], coordinates[city_name][1]\n",
    "#     else:\n",
    "#         time.sleep(1)\n",
    "#         try:\n",
    "#             location = geolocator.geocode(city_name)\n",
    "#             if location:\n",
    "#                 coordinates[city_name] = location.latitude, location.longitude\n",
    "#                 return (location.latitude, location.longitude)\n",
    "#             else:\n",
    "#                 return (None, None)\n",
    "#         except Exception as error:\n",
    "#             print(f\"Ошибка при обработке города {city_name}: {error}\")\n",
    "#             return (None, None)\n",
    "        \n",
    "    \n",
    "        \n",
    "# # Applying the function to DataFrame to create new columns\n",
    "# df_feat_eng['coordinates'] = df_feat_eng['geo_city'].apply(get_coordinates)\n",
    "# df_feat_eng['latitude'] = df_feat_eng['coordinates'].apply(lambda x: x[0])\n",
    "# df_feat_eng['longitude'] = df_feat_eng['coordinates'].apply(lambda x: x[1])\n",
    "# df_feat_eng.drop(columns=['coordinates'], inplace=True)"
   ]
  },
  {
   "cell_type": "code",
   "execution_count": 111,
   "metadata": {},
   "outputs": [],
   "source": [
    "# csv_filename = 'lat_long.csv'\n",
    "\n",
    "# with open(csv_filename, mode='w', newline='') as file:\n",
    "#     writer = csv.writer(file)\n",
    "#     for key, value in coordinates.items():\n",
    "#         writer.writerow([key, value])\n"
   ]
  },
  {
   "cell_type": "code",
   "execution_count": 112,
   "metadata": {},
   "outputs": [],
   "source": [
    "# len(coordinates)"
   ]
  },
  {
   "cell_type": "code",
   "execution_count": 113,
   "metadata": {},
   "outputs": [],
   "source": [
    "# city_name = \"Setagaya\"\n",
    "# url = f\"http://api.geonames.org/searchJSON?q={city_name}&maxRows=1&username={username}\"\n",
    "# response = requests.get(url)\n",
    "# data = response.json()\n",
    "# fcode_name = data['geonames'][0].get('fcodeName')\n",
    "# fcode_name"
   ]
  },
  {
   "cell_type": "code",
   "execution_count": 114,
   "metadata": {},
   "outputs": [],
   "source": [
    "\n",
    "# def get_fcodes(city, username):\n",
    "#     # Формирование URL для запроса к Geonames\n",
    "#     url = f\"http://api.geonames.org/searchJSON?q={city}&maxRows=1&username={username}\"\n",
    "#     response = requests.get(url)\n",
    "#     data = response.json()\n",
    "    # try:\n",
    "    #     if data['totalResultsCount'] > 0:\n",
    "    #         fcode_name = data['geonames'][0].get('fcodeName')\n",
    "    #     else:\n",
    "    #         return 'Not found'\n",
    "    # except Exception as e:\n",
    "    #     # print(f\"Error retrieving data for city of {city}\")\n",
    "    #     return 'Error'\n",
    "    \n",
    "#     return fcode_name\n",
    "\n",
    "# city_type = []\n",
    "# # Пример использования функции\n",
    "# username = 'azhuravlev'  # Замените на ваше имя пользователя для доступа к API\n",
    "# count = 0\n",
    "# for city_name in coordinates.keys():\n",
    "#     count += 1\n",
    "#     fcode_name = get_fcodes(city_name, username)\n",
    "#     city_type.append((city_name, fcode_name))\n",
    "#     time.sleep(1)  # Задержка между запросами (1 секунда)\n",
    "#     print(f\"{count:<10}{city_name:<25}:\\t{fcode_name}\")\n"
   ]
  },
  {
   "cell_type": "code",
   "execution_count": 115,
   "metadata": {},
   "outputs": [],
   "source": [
    "# city_type"
   ]
  },
  {
   "cell_type": "code",
   "execution_count": 116,
   "metadata": {},
   "outputs": [],
   "source": [
    "# not_found_list = [item[0] for item in city_type_all if item[1] == 'Not found']\n",
    "# city_type_to_csv = [item for item in city_type if item[1] != 'Not found']\n",
    "\n",
    "# len(city_type_to_csv), len(not_found_list)"
   ]
  },
  {
   "cell_type": "code",
   "execution_count": 117,
   "metadata": {},
   "outputs": [],
   "source": [
    "# city_type_not_found = []\n",
    "# username = 'azhuravlev'  # Замените на ваше имя пользователя для доступа к API\n",
    "# count = 0\n",
    "# for city_name in not_found_list:\n",
    "#     count += 1\n",
    "#     fcode_name = get_fcodes(city_name, username)\n",
    "#     city_type_not_found.append((city_name, fcode_name))\n",
    "#     time.sleep(1)  # Задержка между запросами (1 секунда)\n",
    "#     print(f\"{count:<10}{city_name:<25}:\\t{fcode_name}\")\n"
   ]
  },
  {
   "cell_type": "code",
   "execution_count": 118,
   "metadata": {},
   "outputs": [],
   "source": [
    "# city_type_all = city_type_to_csv + city_type_not_found\n",
    "# len(city_type_all)"
   ]
  },
  {
   "cell_type": "code",
   "execution_count": 119,
   "metadata": {},
   "outputs": [],
   "source": [
    "# csv_filename = 'city_type.csv'\n",
    "\n",
    "# with open(csv_filename, mode='w', newline='') as file:\n",
    "#     writer = csv.writer(file)\n",
    "#     for i in city_type_all:\n",
    "#         writer.writerow(i)"
   ]
  },
  {
   "cell_type": "code",
   "execution_count": 120,
   "metadata": {},
   "outputs": [],
   "source": [
    "# places = set([x[1] for x in city_type_all])\n",
    "# places"
   ]
  },
  {
   "cell_type": "markdown",
   "metadata": {},
   "source": [
    "### 3.4.2 Working with administrative divisions\n"
   ]
  },
  {
   "cell_type": "code",
   "execution_count": 121,
   "metadata": {},
   "outputs": [
    {
     "name": "stdout",
     "output_type": "stream",
     "text": [
      "2386\n"
     ]
    }
   ],
   "source": [
    "csv_filename = 'updated_city_type.csv'\n",
    "city_type_dict = {}\n",
    "\n",
    "with open(csv_filename, mode='r') as file:\n",
    "    reader = csv.reader(file)\n",
    "    for row in reader:\n",
    "        key = row[0]\n",
    "        value = row[1]\n",
    "        city_type_dict[key] = value\n",
    "    \n",
    "print(len(city_type_dict))"
   ]
  },
  {
   "cell_type": "code",
   "execution_count": 122,
   "metadata": {},
   "outputs": [],
   "source": [
    "def get_city_type_from_geonames(city):\n",
    "    username = 'azhuravlev'\n",
    "    url = f\"http://api.geonames.org/searchJSON?q={city}&maxRows=1&username={username}\"\n",
    "    response = requests.get(url)\n",
    "    data = response.json()\n",
    "    try:\n",
    "        if data['totalResultsCount'] > 0:\n",
    "            description = data['geonames'][0].get('fcodeName').split()\n",
    "            if 'first-order' in description:\n",
    "                return 'first'\n",
    "            elif 'second-order' in description:\n",
    "                return 'second'\n",
    "            elif 'third-order' in description:\n",
    "                return 'third'\n",
    "            elif 'capital' in description:\n",
    "                return 'capital'\n",
    "            elif 'abandoned' in description:\n",
    "                return 'abandoned'\n",
    "            else:\n",
    "                return 'place'\n",
    "        else:\n",
    "            return 'abandoned place'\n",
    "    except Exception:\n",
    "        return 'abandoned place'\n",
    "\n",
    "def determine_city_type(city_name, city_type_dict):\n",
    "    if city_name in city_type_dict.keys():\n",
    "        city_type = city_type_dict[city_name]\n",
    "    else:\n",
    "        city_type = get_city_type_from_geonames(city_name)\n",
    "    return city_type\n",
    "\n",
    "df_feat_eng['city_type'] = df_feat_eng.geo_city.apply(lambda city: determine_city_type(city, city_type_dict))\n",
    "\n"
   ]
  },
  {
   "cell_type": "code",
   "execution_count": 123,
   "metadata": {},
   "outputs": [
    {
     "data": {
      "text/html": [
       "<div>\n",
       "<style scoped>\n",
       "    .dataframe tbody tr th:only-of-type {\n",
       "        vertical-align: middle;\n",
       "    }\n",
       "\n",
       "    .dataframe tbody tr th {\n",
       "        vertical-align: top;\n",
       "    }\n",
       "\n",
       "    .dataframe thead th {\n",
       "        text-align: right;\n",
       "    }\n",
       "</style>\n",
       "<table border=\"1\" class=\"dataframe\">\n",
       "  <thead>\n",
       "    <tr style=\"text-align: right;\">\n",
       "      <th></th>\n",
       "      <th>geo_city</th>\n",
       "      <th>city_type</th>\n",
       "    </tr>\n",
       "  </thead>\n",
       "  <tbody>\n",
       "    <tr>\n",
       "      <th>12337081</th>\n",
       "      <td>Moscow</td>\n",
       "      <td>capital</td>\n",
       "    </tr>\n",
       "    <tr>\n",
       "      <th>3288869</th>\n",
       "      <td>Moscow</td>\n",
       "      <td>capital</td>\n",
       "    </tr>\n",
       "    <tr>\n",
       "      <th>10566794</th>\n",
       "      <td>Moscow</td>\n",
       "      <td>capital</td>\n",
       "    </tr>\n",
       "    <tr>\n",
       "      <th>14538018</th>\n",
       "      <td>Kazan</td>\n",
       "      <td>first</td>\n",
       "    </tr>\n",
       "    <tr>\n",
       "      <th>12116165</th>\n",
       "      <td>Saint Petersburg</td>\n",
       "      <td>first</td>\n",
       "    </tr>\n",
       "    <tr>\n",
       "      <th>10490314</th>\n",
       "      <td>Moscow</td>\n",
       "      <td>capital</td>\n",
       "    </tr>\n",
       "    <tr>\n",
       "      <th>4773100</th>\n",
       "      <td>Grozny</td>\n",
       "      <td>first</td>\n",
       "    </tr>\n",
       "    <tr>\n",
       "      <th>10603173</th>\n",
       "      <td>(not set)</td>\n",
       "      <td>abandoned</td>\n",
       "    </tr>\n",
       "    <tr>\n",
       "      <th>4198915</th>\n",
       "      <td>Vladivostok</td>\n",
       "      <td>first</td>\n",
       "    </tr>\n",
       "    <tr>\n",
       "      <th>7072397</th>\n",
       "      <td>Moscow</td>\n",
       "      <td>capital</td>\n",
       "    </tr>\n",
       "  </tbody>\n",
       "</table>\n",
       "</div>"
      ],
      "text/plain": [
       "                  geo_city  city_type\n",
       "12337081            Moscow    capital\n",
       "3288869             Moscow    capital\n",
       "10566794            Moscow    capital\n",
       "14538018             Kazan      first\n",
       "12116165  Saint Petersburg      first\n",
       "10490314            Moscow    capital\n",
       "4773100             Grozny      first\n",
       "10603173         (not set)  abandoned\n",
       "4198915        Vladivostok      first\n",
       "7072397             Moscow    capital"
      ]
     },
     "execution_count": 123,
     "metadata": {},
     "output_type": "execute_result"
    }
   ],
   "source": [
    "df_feat_eng[['geo_city', 'city_type']].head(10)"
   ]
  },
  {
   "cell_type": "markdown",
   "metadata": {},
   "source": [
    "## 3.8 Country"
   ]
  },
  {
   "cell_type": "code",
   "execution_count": 124,
   "metadata": {},
   "outputs": [
    {
     "data": {
      "text/plain": [
       "['Armenia',\n",
       " 'Azerbaijan',\n",
       " 'Belarus',\n",
       " 'Estonia',\n",
       " 'Georgia',\n",
       " 'Kazakhstan',\n",
       " 'Kyrgyzstan',\n",
       " 'Latvia',\n",
       " 'Lithuania',\n",
       " 'Moldova',\n",
       " 'Tajikistan',\n",
       " 'Turkmenistan',\n",
       " 'Ukraine',\n",
       " 'Uzbekistan',\n",
       " 'Russia']"
      ]
     },
     "execution_count": 124,
     "metadata": {},
     "output_type": "execute_result"
    }
   ],
   "source": [
    "former_ussr_countries = [\n",
    "    \"Armenia\",\n",
    "    \"Azerbaijan\",\n",
    "    \"Belarus\",\n",
    "    \"Estonia\",\n",
    "    \"Georgia\",\n",
    "    \"Kazakhstan\",\n",
    "    \"Kyrgyzstan\",\n",
    "    \"Latvia\",\n",
    "    \"Lithuania\",\n",
    "    \"Moldova\",\n",
    "    \"Tajikistan\",\n",
    "    \"Turkmenistan\",\n",
    "    \"Ukraine\",\n",
    "    \"Uzbekistan\",\n",
    "    \"Russia\"\n",
    "]\n",
    "former_ussr_countries"
   ]
  },
  {
   "cell_type": "code",
   "execution_count": 125,
   "metadata": {},
   "outputs": [
    {
     "data": {
      "text/plain": [
       "12337081    1\n",
       "3288869     1\n",
       "10566794    1\n",
       "14538018    1\n",
       "12116165    1\n",
       "Name: USSR, dtype: int64"
      ]
     },
     "execution_count": 125,
     "metadata": {},
     "output_type": "execute_result"
    }
   ],
   "source": [
    "df_feat_eng['USSR'] = df_feat_eng.geo_country.apply(\n",
    "    lambda x: 1 if x in former_ussr_countries else 0\n",
    ")\n",
    "\n",
    "df_feat_eng['USSR'].head()"
   ]
  },
  {
   "cell_type": "code",
   "execution_count": 126,
   "metadata": {},
   "outputs": [
    {
     "data": {
      "text/html": [
       "<div>\n",
       "<style scoped>\n",
       "    .dataframe tbody tr th:only-of-type {\n",
       "        vertical-align: middle;\n",
       "    }\n",
       "\n",
       "    .dataframe tbody tr th {\n",
       "        vertical-align: top;\n",
       "    }\n",
       "\n",
       "    .dataframe thead th {\n",
       "        text-align: right;\n",
       "    }\n",
       "</style>\n",
       "<table border=\"1\" class=\"dataframe\">\n",
       "  <thead>\n",
       "    <tr style=\"text-align: right;\">\n",
       "      <th></th>\n",
       "      <th>session_id</th>\n",
       "      <th>client_id</th>\n",
       "      <th>visit_date</th>\n",
       "      <th>visit_time</th>\n",
       "      <th>visit_number</th>\n",
       "      <th>utm_source</th>\n",
       "      <th>utm_medium</th>\n",
       "      <th>utm_campaign</th>\n",
       "      <th>utm_adcontent</th>\n",
       "      <th>device_category</th>\n",
       "      <th>...</th>\n",
       "      <th>visit_day</th>\n",
       "      <th>visit_dayofweek</th>\n",
       "      <th>visit_year</th>\n",
       "      <th>day_category</th>\n",
       "      <th>season</th>\n",
       "      <th>visit_time_category</th>\n",
       "      <th>device_screen_area</th>\n",
       "      <th>screen_category</th>\n",
       "      <th>city_type</th>\n",
       "      <th>USSR</th>\n",
       "    </tr>\n",
       "  </thead>\n",
       "  <tbody>\n",
       "    <tr>\n",
       "      <th>12337081</th>\n",
       "      <td>7284725054902084534.1624538941.1624538941</td>\n",
       "      <td>1696107223.1607705526</td>\n",
       "      <td>2021-06-24</td>\n",
       "      <td>15:00:00</td>\n",
       "      <td>75</td>\n",
       "      <td>jaSOmLICuBzCFqHfBdRg</td>\n",
       "      <td>email</td>\n",
       "      <td>LliRUcMuIXWdLyWHGyiO</td>\n",
       "      <td>sDWYAbLNiGZVxGBDdTxc</td>\n",
       "      <td>desktop</td>\n",
       "      <td>...</td>\n",
       "      <td>24</td>\n",
       "      <td>3</td>\n",
       "      <td>2021</td>\n",
       "      <td>workday</td>\n",
       "      <td>summer</td>\n",
       "      <td>workhour</td>\n",
       "      <td>921600</td>\n",
       "      <td>medium_desktop</td>\n",
       "      <td>capital</td>\n",
       "      <td>1</td>\n",
       "    </tr>\n",
       "    <tr>\n",
       "      <th>3288869</th>\n",
       "      <td>2502982653972912560.1628266799.1628266799</td>\n",
       "      <td>582771062.1627724208</td>\n",
       "      <td>2021-08-06</td>\n",
       "      <td>19:00:00</td>\n",
       "      <td>6</td>\n",
       "      <td>kjsLglQLzykiRbcDiGcD</td>\n",
       "      <td>organic</td>\n",
       "      <td>LTuZkdKfxRGVceoWkVyg</td>\n",
       "      <td>JNHcPlZPxEMWDnRiyoBf</td>\n",
       "      <td>desktop</td>\n",
       "      <td>...</td>\n",
       "      <td>6</td>\n",
       "      <td>4</td>\n",
       "      <td>2021</td>\n",
       "      <td>workday</td>\n",
       "      <td>summer</td>\n",
       "      <td>evening</td>\n",
       "      <td>1327104</td>\n",
       "      <td>big_desktop</td>\n",
       "      <td>capital</td>\n",
       "      <td>1</td>\n",
       "    </tr>\n",
       "    <tr>\n",
       "      <th>10566794</th>\n",
       "      <td>63501960694916780.1640162989.1640162989</td>\n",
       "      <td>14785202.1640162988</td>\n",
       "      <td>2021-12-22</td>\n",
       "      <td>11:49:49</td>\n",
       "      <td>1</td>\n",
       "      <td>ZpYIoDJMcFzVoPFsHGJL</td>\n",
       "      <td>push</td>\n",
       "      <td>sbJRYgVfvcnqKJNDDYIr</td>\n",
       "      <td>JNHcPlZPxEMWDnRiyoBf</td>\n",
       "      <td>mobile</td>\n",
       "      <td>...</td>\n",
       "      <td>22</td>\n",
       "      <td>2</td>\n",
       "      <td>2021</td>\n",
       "      <td>workday</td>\n",
       "      <td>winter</td>\n",
       "      <td>workhour</td>\n",
       "      <td>376980</td>\n",
       "      <td>big_mobile</td>\n",
       "      <td>capital</td>\n",
       "      <td>1</td>\n",
       "    </tr>\n",
       "    <tr>\n",
       "      <th>14538018</th>\n",
       "      <td>8447975741139857132.1640115950.1640115969</td>\n",
       "      <td>1966947629.1640115948</td>\n",
       "      <td>2021-12-21</td>\n",
       "      <td>22:46:09</td>\n",
       "      <td>1</td>\n",
       "      <td>bByPQxmDaMXgpHeypKSM</td>\n",
       "      <td>referral</td>\n",
       "      <td>QdLfySaGXolfTBSNVfHn</td>\n",
       "      <td>SOkCdPxfUcZUzzOdgGES</td>\n",
       "      <td>desktop</td>\n",
       "      <td>...</td>\n",
       "      <td>21</td>\n",
       "      <td>1</td>\n",
       "      <td>2021</td>\n",
       "      <td>workday</td>\n",
       "      <td>winter</td>\n",
       "      <td>evening</td>\n",
       "      <td>694375</td>\n",
       "      <td>medium_desktop</td>\n",
       "      <td>first</td>\n",
       "      <td>1</td>\n",
       "    </tr>\n",
       "    <tr>\n",
       "      <th>12116165</th>\n",
       "      <td>7169040235355732641.1625062049.1625062049</td>\n",
       "      <td>1669172252.1625062049</td>\n",
       "      <td>2021-06-30</td>\n",
       "      <td>17:00:00</td>\n",
       "      <td>1</td>\n",
       "      <td>ZpYIoDJMcFzVoPFsHGJL</td>\n",
       "      <td>banner</td>\n",
       "      <td>eimRuUrNhZLAYcwRrNXu</td>\n",
       "      <td>JNHcPlZPxEMWDnRiyoBf</td>\n",
       "      <td>mobile</td>\n",
       "      <td>...</td>\n",
       "      <td>30</td>\n",
       "      <td>2</td>\n",
       "      <td>2021</td>\n",
       "      <td>workday</td>\n",
       "      <td>summer</td>\n",
       "      <td>evening_rush</td>\n",
       "      <td>242724</td>\n",
       "      <td>big_mobile</td>\n",
       "      <td>first</td>\n",
       "      <td>1</td>\n",
       "    </tr>\n",
       "  </tbody>\n",
       "</table>\n",
       "<p>5 rows × 28 columns</p>\n",
       "</div>"
      ],
      "text/plain": [
       "                                         session_id              client_id  \\\n",
       "12337081  7284725054902084534.1624538941.1624538941  1696107223.1607705526   \n",
       "3288869   2502982653972912560.1628266799.1628266799   582771062.1627724208   \n",
       "10566794    63501960694916780.1640162989.1640162989    14785202.1640162988   \n",
       "14538018  8447975741139857132.1640115950.1640115969  1966947629.1640115948   \n",
       "12116165  7169040235355732641.1625062049.1625062049  1669172252.1625062049   \n",
       "\n",
       "         visit_date visit_time  visit_number            utm_source utm_medium  \\\n",
       "12337081 2021-06-24   15:00:00            75  jaSOmLICuBzCFqHfBdRg      email   \n",
       "3288869  2021-08-06   19:00:00             6  kjsLglQLzykiRbcDiGcD    organic   \n",
       "10566794 2021-12-22   11:49:49             1  ZpYIoDJMcFzVoPFsHGJL       push   \n",
       "14538018 2021-12-21   22:46:09             1  bByPQxmDaMXgpHeypKSM   referral   \n",
       "12116165 2021-06-30   17:00:00             1  ZpYIoDJMcFzVoPFsHGJL     banner   \n",
       "\n",
       "                  utm_campaign         utm_adcontent device_category  ...  \\\n",
       "12337081  LliRUcMuIXWdLyWHGyiO  sDWYAbLNiGZVxGBDdTxc         desktop  ...   \n",
       "3288869   LTuZkdKfxRGVceoWkVyg  JNHcPlZPxEMWDnRiyoBf         desktop  ...   \n",
       "10566794  sbJRYgVfvcnqKJNDDYIr  JNHcPlZPxEMWDnRiyoBf          mobile  ...   \n",
       "14538018  QdLfySaGXolfTBSNVfHn  SOkCdPxfUcZUzzOdgGES         desktop  ...   \n",
       "12116165  eimRuUrNhZLAYcwRrNXu  JNHcPlZPxEMWDnRiyoBf          mobile  ...   \n",
       "\n",
       "         visit_day visit_dayofweek visit_year day_category  season  \\\n",
       "12337081        24               3       2021      workday  summer   \n",
       "3288869          6               4       2021      workday  summer   \n",
       "10566794        22               2       2021      workday  winter   \n",
       "14538018        21               1       2021      workday  winter   \n",
       "12116165        30               2       2021      workday  summer   \n",
       "\n",
       "         visit_time_category  device_screen_area  screen_category  city_type  \\\n",
       "12337081            workhour              921600   medium_desktop    capital   \n",
       "3288869              evening             1327104      big_desktop    capital   \n",
       "10566794            workhour              376980       big_mobile    capital   \n",
       "14538018             evening              694375   medium_desktop      first   \n",
       "12116165        evening_rush              242724       big_mobile      first   \n",
       "\n",
       "          USSR  \n",
       "12337081     1  \n",
       "3288869      1  \n",
       "10566794     1  \n",
       "14538018     1  \n",
       "12116165     1  \n",
       "\n",
       "[5 rows x 28 columns]"
      ]
     },
     "execution_count": 126,
     "metadata": {},
     "output_type": "execute_result"
    }
   ],
   "source": [
    "df_feat_eng.head()"
   ]
  },
  {
   "cell_type": "markdown",
   "metadata": {},
   "source": [
    "## 3.9 Device brand"
   ]
  },
  {
   "cell_type": "code",
   "execution_count": 127,
   "metadata": {},
   "outputs": [
    {
     "data": {
      "text/plain": [
       "device_brand\n",
       "Apple        526948\n",
       "custom       323060\n",
       "Samsung      311641\n",
       "Xiaomi       269251\n",
       "Huawei       173828\n",
       "              ...  \n",
       "Gigaset           1\n",
       "M-HORSE           1\n",
       "Tonbux            1\n",
       "Cube              1\n",
       "Honeywell         1\n",
       "Name: count, Length: 202, dtype: int64"
      ]
     },
     "execution_count": 127,
     "metadata": {},
     "output_type": "execute_result"
    }
   ],
   "source": [
    "df_feat_eng.device_brand.value_counts()"
   ]
  },
  {
   "cell_type": "code",
   "execution_count": 128,
   "metadata": {},
   "outputs": [
    {
     "data": {
      "text/plain": [
       "device_brand_cat\n",
       "Apple      526948\n",
       "custom     323060\n",
       "Samsung    311641\n",
       "Xiaomi     269251\n",
       "Huawei     173828\n",
       "other      127229\n",
       "Name: count, dtype: int64"
      ]
     },
     "execution_count": 128,
     "metadata": {},
     "output_type": "execute_result"
    }
   ],
   "source": [
    "dev_brand_count = df_feat_eng.device_brand.value_counts().to_dict()\n",
    "df_feat_eng[\"device_brand_cat\"] = df_feat_eng[\"device_brand\"].apply(\n",
    "    lambda x: x if dev_brand_count[x] > 100000 else 'other'\n",
    "    )\n",
    "\n",
    "\n",
    "df_feat_eng.device_brand_cat.value_counts()"
   ]
  },
  {
   "cell_type": "markdown",
   "metadata": {},
   "source": [
    "## 3.10 Device OS"
   ]
  },
  {
   "cell_type": "code",
   "execution_count": 129,
   "metadata": {},
   "outputs": [
    {
     "data": {
      "text/plain": [
       "device_os\n",
       "Android          875038\n",
       "iOS              503538\n",
       "Windows          318491\n",
       "Macintosh         23415\n",
       "other              6754\n",
       "Linux              4616\n",
       "Chrome OS            65\n",
       "BlackBerry           24\n",
       "Tizen                 7\n",
       "Firefox OS            3\n",
       "Windows Phone         2\n",
       "Nokia                 2\n",
       "Samsung               2\n",
       "Name: count, dtype: int64"
      ]
     },
     "execution_count": 129,
     "metadata": {},
     "output_type": "execute_result"
    }
   ],
   "source": [
    "df_feat_eng.device_os.value_counts()"
   ]
  },
  {
   "cell_type": "code",
   "execution_count": 130,
   "metadata": {},
   "outputs": [
    {
     "data": {
      "text/plain": [
       "device_os_cat\n",
       "Android      875038\n",
       "iOS          503538\n",
       "Windows      318491\n",
       "Macintosh     23415\n",
       "other          6859\n",
       "Linux          4616\n",
       "Name: count, dtype: int64"
      ]
     },
     "execution_count": 130,
     "metadata": {},
     "output_type": "execute_result"
    }
   ],
   "source": [
    "dev_os_count = df_feat_eng.device_os.value_counts().to_dict()\n",
    "df_feat_eng['device_os_cat'] = df_feat_eng.device_os.apply(\n",
    "    lambda x: x if dev_os_count[x] > 1000 else 'other'\n",
    ")\n",
    "df_feat_eng.device_os_cat.value_counts()"
   ]
  },
  {
   "cell_type": "markdown",
   "metadata": {},
   "source": [
    "## 3.11 Device browser"
   ]
  },
  {
   "cell_type": "code",
   "execution_count": 131,
   "metadata": {},
   "outputs": [
    {
     "data": {
      "text/plain": [
       "device_browser\n",
       "Chrome                              951561\n",
       "Safari                              436705\n",
       "YaBrowser                           123765\n",
       "Safari (in-app)                      65952\n",
       "Android Webview                      51919\n",
       "Samsung Internet                     44273\n",
       "Opera                                25094\n",
       "Firefox                              15738\n",
       "Edge                                 15196\n",
       "UC Browser                             815\n",
       "Android Runtime                        241\n",
       "[FBAN                                  109\n",
       "Mozilla Compatible Agent                80\n",
       "MRCHROME                                72\n",
       "Instagram 208.0.0.32.135 Android        72\n",
       "Instagram 209.0.0.21.119 Android        49\n",
       "Android Browser                         47\n",
       "Puffin                                  43\n",
       "Maxthon                                 30\n",
       "Internet Explorer                       24\n",
       "Instagram 202.0.0.23.119                17\n",
       "Android                                 16\n",
       "Mozilla                                 16\n",
       "Opera Mini                              16\n",
       "Instagram 194.0.0.36.172 Android        14\n",
       "Instagram 202.0.0.37.123 Android        12\n",
       "com.vk.vkclient                          8\n",
       "Instagram 192.0.0.37.119                 6\n",
       "Amazon Silk                              6\n",
       "(not set)                                6\n",
       "Coc Coc                                  6\n",
       "Instagram 203.0.0.26.117                 6\n",
       "Instagram 201.0.0.23.111                 5\n",
       "Instagram 216.0.0.12.135                 4\n",
       "Instagram 207.0.0.28.118                 4\n",
       "SeaMonkey                                3\n",
       "Instagram 158.0.0.30.123 Android         3\n",
       "Instagram 213.0.0.19.117                 3\n",
       "Instagram 192.0.0.35.123 Android         3\n",
       "NetFront                                 2\n",
       "Instagram 208.0.0.26.131                 2\n",
       "Instagram 199.1.0.34.119 Android         2\n",
       "Iron                                     2\n",
       "MyApp                                    2\n",
       "Instagram 199.0.0.27.120                 2\n",
       "Threads 202.0.0.23.119                   1\n",
       "Konqueror                                1\n",
       "MT6735_TD                                1\n",
       "Nokia501                                 1\n",
       "com.zhiliaoapp.musically                 1\n",
       "NokiaX2-02                               1\n",
       "Name: count, dtype: int64"
      ]
     },
     "execution_count": 131,
     "metadata": {},
     "output_type": "execute_result"
    }
   ],
   "source": [
    "df_feat_eng.device_browser.value_counts()"
   ]
  },
  {
   "cell_type": "code",
   "execution_count": 132,
   "metadata": {},
   "outputs": [
    {
     "data": {
      "text/plain": [
       "device_browser_cat\n",
       "Chrome       951561\n",
       "Safari       436705\n",
       "other        219926\n",
       "YaBrowser    123765\n",
       "Name: count, dtype: int64"
      ]
     },
     "execution_count": 132,
     "metadata": {},
     "output_type": "execute_result"
    }
   ],
   "source": [
    "dev_browser = df_feat_eng.device_browser.value_counts().to_dict()\n",
    "df_feat_eng[\"device_browser_cat\"] = df_feat_eng[\"device_browser\"].apply(\n",
    "    lambda x: x if dev_browser[x] > 100000 else 'other'\n",
    "    )\n",
    "\n",
    "\n",
    "df_feat_eng.device_browser_cat.value_counts()"
   ]
  },
  {
   "cell_type": "markdown",
   "metadata": {},
   "source": [
    "# 4.Conversion & Standardization"
   ]
  },
  {
   "cell_type": "markdown",
   "metadata": {},
   "source": [
    "## 4.1 Categorical"
   ]
  },
  {
   "cell_type": "code",
   "execution_count": 133,
   "metadata": {},
   "outputs": [],
   "source": [
    "df_conversion = df_feat_eng.copy()"
   ]
  },
  {
   "cell_type": "code",
   "execution_count": 134,
   "metadata": {},
   "outputs": [
    {
     "name": "stdout",
     "output_type": "stream",
     "text": [
      "               session_id: 1731957\n",
      "                client_id: 1320396\n",
      "               visit_date: 226\n",
      "               visit_time: 85028\n",
      "             visit_number: 533\n",
      "               utm_source: 280\n",
      "               utm_medium: 55\n",
      "             utm_campaign: 406\n",
      "            utm_adcontent: 280\n",
      "          device_category: 3\n",
      "                device_os: 13\n",
      "             device_brand: 202\n",
      " device_screen_resolution: 4947\n",
      "           device_browser: 51\n",
      "              geo_country: 159\n",
      "                 geo_city: 2386\n",
      "             event_action: 2\n",
      "              visit_month: 8\n",
      "                visit_day: 31\n",
      "          visit_dayofweek: 7\n",
      "               visit_year: 1\n",
      "             day_category: 3\n",
      "                   season: 4\n",
      "      visit_time_category: 6\n",
      "       device_screen_area: 4506\n",
      "          screen_category: 9\n",
      "                city_type: 6\n",
      "                     USSR: 2\n",
      "         device_brand_cat: 6\n",
      "            device_os_cat: 6\n",
      "       device_browser_cat: 4\n"
     ]
    }
   ],
   "source": [
    "categories = df_conversion.columns\n",
    "\n",
    "for i in categories:\n",
    "    print(f\"{i:>25}: {df_conversion[i].nunique()}\")"
   ]
  },
  {
   "cell_type": "code",
   "execution_count": 135,
   "metadata": {},
   "outputs": [],
   "source": [
    "categories_to_ohe = [\n",
    "    \"visit_time_category\",\n",
    "    \"device_category\",\n",
    "    \"device_brand_cat\",\n",
    "    \"day_category\",\n",
    "    \"season\",\n",
    "    \"screen_category\",\n",
    "    \"device_os_cat\",\n",
    "    \"device_browser_cat\",\n",
    "    \"city_type\",\n",
    "    \n",
    "    ]\n"
   ]
  },
  {
   "cell_type": "code",
   "execution_count": 136,
   "metadata": {},
   "outputs": [
    {
     "name": "stdout",
     "output_type": "stream",
     "text": [
      "      visit_time_category: 6\n",
      "          device_category: 3\n",
      "         device_brand_cat: 6\n",
      "             day_category: 3\n",
      "                   season: 4\n",
      "          screen_category: 9\n",
      "            device_os_cat: 6\n",
      "       device_browser_cat: 4\n",
      "                city_type: 6\n"
     ]
    }
   ],
   "source": [
    "for i in categories_to_ohe:\n",
    "    print(f\"{i:>25}: {df_conversion[i].nunique()}\")"
   ]
  },
  {
   "cell_type": "markdown",
   "metadata": {},
   "source": [
    "Creating a new df for encoding:"
   ]
  },
  {
   "cell_type": "code",
   "execution_count": 137,
   "metadata": {},
   "outputs": [
    {
     "data": {
      "text/html": [
       "<div>\n",
       "<style scoped>\n",
       "    .dataframe tbody tr th:only-of-type {\n",
       "        vertical-align: middle;\n",
       "    }\n",
       "\n",
       "    .dataframe tbody tr th {\n",
       "        vertical-align: top;\n",
       "    }\n",
       "\n",
       "    .dataframe thead th {\n",
       "        text-align: right;\n",
       "    }\n",
       "</style>\n",
       "<table border=\"1\" class=\"dataframe\">\n",
       "  <thead>\n",
       "    <tr style=\"text-align: right;\">\n",
       "      <th></th>\n",
       "      <th>visit_time_category</th>\n",
       "      <th>device_category</th>\n",
       "      <th>device_brand_cat</th>\n",
       "      <th>day_category</th>\n",
       "      <th>season</th>\n",
       "      <th>screen_category</th>\n",
       "      <th>device_os_cat</th>\n",
       "      <th>device_browser_cat</th>\n",
       "      <th>city_type</th>\n",
       "    </tr>\n",
       "  </thead>\n",
       "  <tbody>\n",
       "    <tr>\n",
       "      <th>12337081</th>\n",
       "      <td>workhour</td>\n",
       "      <td>desktop</td>\n",
       "      <td>custom</td>\n",
       "      <td>workday</td>\n",
       "      <td>summer</td>\n",
       "      <td>medium_desktop</td>\n",
       "      <td>Windows</td>\n",
       "      <td>Chrome</td>\n",
       "      <td>capital</td>\n",
       "    </tr>\n",
       "    <tr>\n",
       "      <th>3288869</th>\n",
       "      <td>evening</td>\n",
       "      <td>desktop</td>\n",
       "      <td>custom</td>\n",
       "      <td>workday</td>\n",
       "      <td>summer</td>\n",
       "      <td>big_desktop</td>\n",
       "      <td>Windows</td>\n",
       "      <td>other</td>\n",
       "      <td>capital</td>\n",
       "    </tr>\n",
       "    <tr>\n",
       "      <th>10566794</th>\n",
       "      <td>workhour</td>\n",
       "      <td>mobile</td>\n",
       "      <td>Samsung</td>\n",
       "      <td>workday</td>\n",
       "      <td>winter</td>\n",
       "      <td>big_mobile</td>\n",
       "      <td>Android</td>\n",
       "      <td>Chrome</td>\n",
       "      <td>capital</td>\n",
       "    </tr>\n",
       "    <tr>\n",
       "      <th>14538018</th>\n",
       "      <td>evening</td>\n",
       "      <td>desktop</td>\n",
       "      <td>custom</td>\n",
       "      <td>workday</td>\n",
       "      <td>winter</td>\n",
       "      <td>medium_desktop</td>\n",
       "      <td>Windows</td>\n",
       "      <td>Chrome</td>\n",
       "      <td>first</td>\n",
       "    </tr>\n",
       "    <tr>\n",
       "      <th>12116165</th>\n",
       "      <td>evening_rush</td>\n",
       "      <td>mobile</td>\n",
       "      <td>Samsung</td>\n",
       "      <td>workday</td>\n",
       "      <td>summer</td>\n",
       "      <td>big_mobile</td>\n",
       "      <td>Android</td>\n",
       "      <td>Chrome</td>\n",
       "      <td>first</td>\n",
       "    </tr>\n",
       "  </tbody>\n",
       "</table>\n",
       "</div>"
      ],
      "text/plain": [
       "         visit_time_category device_category device_brand_cat day_category  \\\n",
       "12337081            workhour         desktop           custom      workday   \n",
       "3288869              evening         desktop           custom      workday   \n",
       "10566794            workhour          mobile          Samsung      workday   \n",
       "14538018             evening         desktop           custom      workday   \n",
       "12116165        evening_rush          mobile          Samsung      workday   \n",
       "\n",
       "          season screen_category device_os_cat device_browser_cat city_type  \n",
       "12337081  summer  medium_desktop       Windows             Chrome   capital  \n",
       "3288869   summer     big_desktop       Windows              other   capital  \n",
       "10566794  winter      big_mobile       Android             Chrome   capital  \n",
       "14538018  winter  medium_desktop       Windows             Chrome     first  \n",
       "12116165  summer      big_mobile       Android             Chrome     first  "
      ]
     },
     "execution_count": 137,
     "metadata": {},
     "output_type": "execute_result"
    }
   ],
   "source": [
    "data = df_conversion[categories_to_ohe]\n",
    "data.head()"
   ]
  },
  {
   "cell_type": "code",
   "execution_count": 138,
   "metadata": {},
   "outputs": [],
   "source": [
    "ohe = OneHotEncoder(sparse_output=False)"
   ]
  },
  {
   "cell_type": "code",
   "execution_count": 139,
   "metadata": {},
   "outputs": [
    {
     "name": "stdout",
     "output_type": "stream",
     "text": [
      "(1731957, 47)\n",
      "\n",
      "['visit_time_category_evening' 'visit_time_category_evening_rush'\n",
      " 'visit_time_category_morning' 'visit_time_category_morning_rush'\n",
      " 'visit_time_category_night' 'visit_time_category_workhour'\n",
      " 'device_category_desktop' 'device_category_mobile'\n",
      " 'device_category_tablet' 'device_brand_cat_Apple'\n",
      " 'device_brand_cat_Huawei' 'device_brand_cat_Samsung'\n",
      " 'device_brand_cat_Xiaomi' 'device_brand_cat_custom'\n",
      " 'device_brand_cat_other' 'day_category_holiday' 'day_category_weekend'\n",
      " 'day_category_workday' 'season_autumn' 'season_spring' 'season_summer'\n",
      " 'season_winter' 'screen_category_big_desktop'\n",
      " 'screen_category_big_mobile' 'screen_category_big_tablet'\n",
      " 'screen_category_medium_desktop' 'screen_category_medium_mobile'\n",
      " 'screen_category_medium_tablet' 'screen_category_small_desktop'\n",
      " 'screen_category_small_mobile' 'screen_category_small_tablet'\n",
      " 'device_os_cat_Android' 'device_os_cat_Linux' 'device_os_cat_Macintosh'\n",
      " 'device_os_cat_Windows' 'device_os_cat_iOS' 'device_os_cat_other'\n",
      " 'device_browser_cat_Chrome' 'device_browser_cat_Safari'\n",
      " 'device_browser_cat_YaBrowser' 'device_browser_cat_other'\n",
      " 'city_type_abandoned' 'city_type_capital' 'city_type_first'\n",
      " 'city_type_place' 'city_type_second' 'city_type_third']\n"
     ]
    }
   ],
   "source": [
    "ohe_data = ohe.fit_transform(data)\n",
    "print(f\"{ohe_data.shape}\\n\\n{ohe.get_feature_names_out()}\")"
   ]
  },
  {
   "cell_type": "markdown",
   "metadata": {},
   "source": [
    "## 4.2 Standardization"
   ]
  },
  {
   "cell_type": "code",
   "execution_count": 140,
   "metadata": {},
   "outputs": [],
   "source": [
    "categories_to_std_scaler = ['visit_number']"
   ]
  },
  {
   "cell_type": "code",
   "execution_count": 141,
   "metadata": {},
   "outputs": [
    {
     "name": "stdout",
     "output_type": "stream",
     "text": [
      "<class 'pandas.core.frame.DataFrame'>\n",
      "Index: 1731957 entries, 12337081 to 5245208\n",
      "Data columns (total 1 columns):\n",
      " #   Column        Dtype\n",
      "---  ------        -----\n",
      " 0   visit_number  Int32\n",
      "dtypes: Int32(1)\n",
      "memory usage: 21.5 MB\n"
     ]
    }
   ],
   "source": [
    "data_std = df_conversion[categories_to_std_scaler]\n",
    "data_std.info()"
   ]
  },
  {
   "cell_type": "code",
   "execution_count": 142,
   "metadata": {},
   "outputs": [],
   "source": [
    "std_scaler = StandardScaler()"
   ]
  },
  {
   "cell_type": "code",
   "execution_count": 143,
   "metadata": {},
   "outputs": [
    {
     "name": "stdout",
     "output_type": "stream",
     "text": [
      "(1731957, 1)\n"
     ]
    }
   ],
   "source": [
    "std_scaler_cats_std = std_scaler.fit_transform(data_std)\n",
    "print(std_scaler_cats_std.shape)"
   ]
  },
  {
   "cell_type": "code",
   "execution_count": 144,
   "metadata": {},
   "outputs": [
    {
     "data": {
      "text/plain": [
       "['visit_number_std']"
      ]
     },
     "execution_count": 144,
     "metadata": {},
     "output_type": "execute_result"
    }
   ],
   "source": [
    "features_std = [i + \"_std\" for i in std_scaler.get_feature_names_out()]\n",
    "features_std"
   ]
  },
  {
   "cell_type": "code",
   "execution_count": 145,
   "metadata": {},
   "outputs": [
    {
     "data": {
      "text/html": [
       "<div>\n",
       "<style scoped>\n",
       "    .dataframe tbody tr th:only-of-type {\n",
       "        vertical-align: middle;\n",
       "    }\n",
       "\n",
       "    .dataframe tbody tr th {\n",
       "        vertical-align: top;\n",
       "    }\n",
       "\n",
       "    .dataframe thead th {\n",
       "        text-align: right;\n",
       "    }\n",
       "</style>\n",
       "<table border=\"1\" class=\"dataframe\">\n",
       "  <thead>\n",
       "    <tr style=\"text-align: right;\">\n",
       "      <th></th>\n",
       "      <th>session_id</th>\n",
       "      <th>client_id</th>\n",
       "      <th>visit_date</th>\n",
       "      <th>visit_time</th>\n",
       "      <th>visit_number</th>\n",
       "      <th>utm_source</th>\n",
       "      <th>utm_medium</th>\n",
       "      <th>utm_campaign</th>\n",
       "      <th>utm_adcontent</th>\n",
       "      <th>device_category</th>\n",
       "      <th>...</th>\n",
       "      <th>season</th>\n",
       "      <th>visit_time_category</th>\n",
       "      <th>device_screen_area</th>\n",
       "      <th>screen_category</th>\n",
       "      <th>city_type</th>\n",
       "      <th>USSR</th>\n",
       "      <th>device_brand_cat</th>\n",
       "      <th>device_os_cat</th>\n",
       "      <th>device_browser_cat</th>\n",
       "      <th>visit_number_std</th>\n",
       "    </tr>\n",
       "  </thead>\n",
       "  <tbody>\n",
       "    <tr>\n",
       "      <th>12337081</th>\n",
       "      <td>7284725054902084534.1624538941.1624538941</td>\n",
       "      <td>1696107223.1607705526</td>\n",
       "      <td>2021-06-24</td>\n",
       "      <td>15:00:00</td>\n",
       "      <td>75</td>\n",
       "      <td>jaSOmLICuBzCFqHfBdRg</td>\n",
       "      <td>email</td>\n",
       "      <td>LliRUcMuIXWdLyWHGyiO</td>\n",
       "      <td>sDWYAbLNiGZVxGBDdTxc</td>\n",
       "      <td>desktop</td>\n",
       "      <td>...</td>\n",
       "      <td>summer</td>\n",
       "      <td>workhour</td>\n",
       "      <td>921600</td>\n",
       "      <td>medium_desktop</td>\n",
       "      <td>capital</td>\n",
       "      <td>1</td>\n",
       "      <td>custom</td>\n",
       "      <td>Windows</td>\n",
       "      <td>Chrome</td>\n",
       "      <td>6.215585</td>\n",
       "    </tr>\n",
       "    <tr>\n",
       "      <th>3288869</th>\n",
       "      <td>2502982653972912560.1628266799.1628266799</td>\n",
       "      <td>582771062.1627724208</td>\n",
       "      <td>2021-08-06</td>\n",
       "      <td>19:00:00</td>\n",
       "      <td>6</td>\n",
       "      <td>kjsLglQLzykiRbcDiGcD</td>\n",
       "      <td>organic</td>\n",
       "      <td>LTuZkdKfxRGVceoWkVyg</td>\n",
       "      <td>JNHcPlZPxEMWDnRiyoBf</td>\n",
       "      <td>desktop</td>\n",
       "      <td>...</td>\n",
       "      <td>summer</td>\n",
       "      <td>evening</td>\n",
       "      <td>1327104</td>\n",
       "      <td>big_desktop</td>\n",
       "      <td>capital</td>\n",
       "      <td>1</td>\n",
       "      <td>custom</td>\n",
       "      <td>Windows</td>\n",
       "      <td>other</td>\n",
       "      <td>0.289590</td>\n",
       "    </tr>\n",
       "    <tr>\n",
       "      <th>10566794</th>\n",
       "      <td>63501960694916780.1640162989.1640162989</td>\n",
       "      <td>14785202.1640162988</td>\n",
       "      <td>2021-12-22</td>\n",
       "      <td>11:49:49</td>\n",
       "      <td>1</td>\n",
       "      <td>ZpYIoDJMcFzVoPFsHGJL</td>\n",
       "      <td>push</td>\n",
       "      <td>sbJRYgVfvcnqKJNDDYIr</td>\n",
       "      <td>JNHcPlZPxEMWDnRiyoBf</td>\n",
       "      <td>mobile</td>\n",
       "      <td>...</td>\n",
       "      <td>winter</td>\n",
       "      <td>workhour</td>\n",
       "      <td>376980</td>\n",
       "      <td>big_mobile</td>\n",
       "      <td>capital</td>\n",
       "      <td>1</td>\n",
       "      <td>Samsung</td>\n",
       "      <td>Android</td>\n",
       "      <td>Chrome</td>\n",
       "      <td>-0.139830</td>\n",
       "    </tr>\n",
       "  </tbody>\n",
       "</table>\n",
       "<p>3 rows × 32 columns</p>\n",
       "</div>"
      ],
      "text/plain": [
       "                                         session_id              client_id  \\\n",
       "12337081  7284725054902084534.1624538941.1624538941  1696107223.1607705526   \n",
       "3288869   2502982653972912560.1628266799.1628266799   582771062.1627724208   \n",
       "10566794    63501960694916780.1640162989.1640162989    14785202.1640162988   \n",
       "\n",
       "         visit_date visit_time  visit_number            utm_source utm_medium  \\\n",
       "12337081 2021-06-24   15:00:00            75  jaSOmLICuBzCFqHfBdRg      email   \n",
       "3288869  2021-08-06   19:00:00             6  kjsLglQLzykiRbcDiGcD    organic   \n",
       "10566794 2021-12-22   11:49:49             1  ZpYIoDJMcFzVoPFsHGJL       push   \n",
       "\n",
       "                  utm_campaign         utm_adcontent device_category  ...  \\\n",
       "12337081  LliRUcMuIXWdLyWHGyiO  sDWYAbLNiGZVxGBDdTxc         desktop  ...   \n",
       "3288869   LTuZkdKfxRGVceoWkVyg  JNHcPlZPxEMWDnRiyoBf         desktop  ...   \n",
       "10566794  sbJRYgVfvcnqKJNDDYIr  JNHcPlZPxEMWDnRiyoBf          mobile  ...   \n",
       "\n",
       "          season visit_time_category device_screen_area screen_category  \\\n",
       "12337081  summer            workhour             921600  medium_desktop   \n",
       "3288869   summer             evening            1327104     big_desktop   \n",
       "10566794  winter            workhour             376980      big_mobile   \n",
       "\n",
       "         city_type USSR  device_brand_cat  device_os_cat  device_browser_cat  \\\n",
       "12337081   capital    1            custom        Windows              Chrome   \n",
       "3288869    capital    1            custom        Windows               other   \n",
       "10566794   capital    1           Samsung        Android              Chrome   \n",
       "\n",
       "          visit_number_std  \n",
       "12337081          6.215585  \n",
       "3288869           0.289590  \n",
       "10566794         -0.139830  \n",
       "\n",
       "[3 rows x 32 columns]"
      ]
     },
     "execution_count": 145,
     "metadata": {},
     "output_type": "execute_result"
    }
   ],
   "source": [
    "df_conversion[features_std] = std_scaler_cats_std\n",
    "df_conversion.head(3)"
   ]
  },
  {
   "cell_type": "code",
   "execution_count": 146,
   "metadata": {},
   "outputs": [
    {
     "data": {
      "text/plain": [
       "(1731957, 32)"
      ]
     },
     "execution_count": 146,
     "metadata": {},
     "output_type": "execute_result"
    }
   ],
   "source": [
    "df_conversion.shape"
   ]
  },
  {
   "cell_type": "code",
   "execution_count": 147,
   "metadata": {},
   "outputs": [
    {
     "data": {
      "text/plain": [
       "((1731957, 47), (1731957, 79))"
      ]
     },
     "execution_count": 147,
     "metadata": {},
     "output_type": "execute_result"
    }
   ],
   "source": [
    "df_categorical = pd.DataFrame(ohe_data, columns=ohe.get_feature_names_out())\n",
    "df_conversion = pd.concat(\n",
    "    [df_conversion.reset_index(drop=True), df_categorical.reset_index(drop=True)], \n",
    "    axis=1, \n",
    "    ignore_index=False\n",
    "    )\n",
    "\n",
    "df_categorical.shape, df_conversion.shape"
   ]
  },
  {
   "cell_type": "code",
   "execution_count": 148,
   "metadata": {},
   "outputs": [
    {
     "data": {
      "text/plain": [
       "Index(['session_id', 'client_id', 'visit_date', 'visit_time', 'visit_number',\n",
       "       'utm_source', 'utm_medium', 'utm_campaign', 'utm_adcontent',\n",
       "       'device_category', 'device_os', 'device_brand',\n",
       "       'device_screen_resolution', 'device_browser', 'geo_country', 'geo_city',\n",
       "       'event_action', 'visit_month', 'visit_day', 'visit_dayofweek',\n",
       "       'visit_year', 'day_category', 'season', 'visit_time_category',\n",
       "       'device_screen_area', 'screen_category', 'city_type', 'USSR',\n",
       "       'device_brand_cat', 'device_os_cat', 'device_browser_cat',\n",
       "       'visit_number_std', 'visit_time_category_evening',\n",
       "       'visit_time_category_evening_rush', 'visit_time_category_morning',\n",
       "       'visit_time_category_morning_rush', 'visit_time_category_night',\n",
       "       'visit_time_category_workhour', 'device_category_desktop',\n",
       "       'device_category_mobile', 'device_category_tablet',\n",
       "       'device_brand_cat_Apple', 'device_brand_cat_Huawei',\n",
       "       'device_brand_cat_Samsung', 'device_brand_cat_Xiaomi',\n",
       "       'device_brand_cat_custom', 'device_brand_cat_other',\n",
       "       'day_category_holiday', 'day_category_weekend', 'day_category_workday',\n",
       "       'season_autumn', 'season_spring', 'season_summer', 'season_winter',\n",
       "       'screen_category_big_desktop', 'screen_category_big_mobile',\n",
       "       'screen_category_big_tablet', 'screen_category_medium_desktop',\n",
       "       'screen_category_medium_mobile', 'screen_category_medium_tablet',\n",
       "       'screen_category_small_desktop', 'screen_category_small_mobile',\n",
       "       'screen_category_small_tablet', 'device_os_cat_Android',\n",
       "       'device_os_cat_Linux', 'device_os_cat_Macintosh',\n",
       "       'device_os_cat_Windows', 'device_os_cat_iOS', 'device_os_cat_other',\n",
       "       'device_browser_cat_Chrome', 'device_browser_cat_Safari',\n",
       "       'device_browser_cat_YaBrowser', 'device_browser_cat_other',\n",
       "       'city_type_abandoned', 'city_type_capital', 'city_type_first',\n",
       "       'city_type_place', 'city_type_second', 'city_type_third'],\n",
       "      dtype='object')"
      ]
     },
     "execution_count": 148,
     "metadata": {},
     "output_type": "execute_result"
    }
   ],
   "source": [
    "df_conversion.columns"
   ]
  },
  {
   "cell_type": "markdown",
   "metadata": {},
   "source": [
    "Dropping unnecessary features:"
   ]
  },
  {
   "cell_type": "code",
   "execution_count": 149,
   "metadata": {},
   "outputs": [
    {
     "name": "stdout",
     "output_type": "stream",
     "text": [
      "['session_id', 'client_id', 'visit_time', 'utm_source', 'utm_medium', 'utm_campaign', 'utm_adcontent', 'device_category', 'device_os', 'device_brand', 'device_screen_resolution', 'device_browser', 'geo_country', 'geo_city', 'day_category', 'season', 'visit_time_category', 'screen_category', 'city_type', 'device_brand_cat', 'device_os_cat', 'device_browser_cat']\n"
     ]
    },
    {
     "data": {
      "text/plain": [
       "(1731957, 54)"
      ]
     },
     "execution_count": 149,
     "metadata": {},
     "output_type": "execute_result"
    }
   ],
   "source": [
    "str_features = [i for i in df_conversion.columns if df_conversion[i].dtype == \"O\"]\n",
    "print(str_features)\n",
    "ids = ['session_id', 'client_id', 'visit_date', 'visit_year', 'geo_country', 'geo_city']\n",
    "cats_to_drop = ids + categories_to_std_scaler + categories_to_ohe + str_features\n",
    "# cats_to_drop = ids + categories_to_std_scaler + categories_to_ohe\n",
    "# cats_to_drop = ids + categories_to_std_scaler\n",
    "df_conversion = df_conversion.drop(df_conversion[cats_to_drop], axis=1)\n",
    "df_conversion.shape"
   ]
  },
  {
   "cell_type": "code",
   "execution_count": 150,
   "metadata": {},
   "outputs": [
    {
     "data": {
      "text/plain": [
       "Index(['event_action', 'visit_month', 'visit_day', 'visit_dayofweek',\n",
       "       'device_screen_area', 'USSR', 'visit_number_std',\n",
       "       'visit_time_category_evening', 'visit_time_category_evening_rush',\n",
       "       'visit_time_category_morning', 'visit_time_category_morning_rush',\n",
       "       'visit_time_category_night', 'visit_time_category_workhour',\n",
       "       'device_category_desktop', 'device_category_mobile',\n",
       "       'device_category_tablet', 'device_brand_cat_Apple',\n",
       "       'device_brand_cat_Huawei', 'device_brand_cat_Samsung',\n",
       "       'device_brand_cat_Xiaomi', 'device_brand_cat_custom',\n",
       "       'device_brand_cat_other', 'day_category_holiday',\n",
       "       'day_category_weekend', 'day_category_workday', 'season_autumn',\n",
       "       'season_spring', 'season_summer', 'season_winter',\n",
       "       'screen_category_big_desktop', 'screen_category_big_mobile',\n",
       "       'screen_category_big_tablet', 'screen_category_medium_desktop',\n",
       "       'screen_category_medium_mobile', 'screen_category_medium_tablet',\n",
       "       'screen_category_small_desktop', 'screen_category_small_mobile',\n",
       "       'screen_category_small_tablet', 'device_os_cat_Android',\n",
       "       'device_os_cat_Linux', 'device_os_cat_Macintosh',\n",
       "       'device_os_cat_Windows', 'device_os_cat_iOS', 'device_os_cat_other',\n",
       "       'device_browser_cat_Chrome', 'device_browser_cat_Safari',\n",
       "       'device_browser_cat_YaBrowser', 'device_browser_cat_other',\n",
       "       'city_type_abandoned', 'city_type_capital', 'city_type_first',\n",
       "       'city_type_place', 'city_type_second', 'city_type_third'],\n",
       "      dtype='object')"
      ]
     },
     "execution_count": 150,
     "metadata": {},
     "output_type": "execute_result"
    }
   ],
   "source": [
    "df_conversion.columns"
   ]
  },
  {
   "cell_type": "code",
   "execution_count": 151,
   "metadata": {},
   "outputs": [
    {
     "name": "stdout",
     "output_type": "stream",
     "text": [
      "No string features found.\n"
     ]
    }
   ],
   "source": [
    "count = 0\n",
    "for i in df_conversion.columns:\n",
    "    if df_conversion[i].dtype == \"O\":\n",
    "        count += 1\n",
    "\n",
    "if count == 0:\n",
    "    print(\"No string features found.\")"
   ]
  },
  {
   "cell_type": "code",
   "execution_count": 152,
   "metadata": {},
   "outputs": [],
   "source": [
    "# df_conversion.drop([\"event_action\"], axis=1).corrwith(df_feat_eng.event_action).sort_values(ascending=False)"
   ]
  },
  {
   "cell_type": "markdown",
   "metadata": {},
   "source": [
    "# 5. Modelling"
   ]
  },
  {
   "cell_type": "code",
   "execution_count": 153,
   "metadata": {},
   "outputs": [],
   "source": [
    "df_model = df_conversion.copy()"
   ]
  },
  {
   "cell_type": "code",
   "execution_count": 154,
   "metadata": {},
   "outputs": [
    {
     "data": {
      "text/plain": [
       "['event_action',\n",
       " 'visit_month',\n",
       " 'visit_day',\n",
       " 'visit_dayofweek',\n",
       " 'device_screen_area',\n",
       " 'USSR',\n",
       " 'visit_number_std',\n",
       " 'visit_time_category_evening',\n",
       " 'visit_time_category_evening_rush',\n",
       " 'visit_time_category_morning',\n",
       " 'visit_time_category_morning_rush',\n",
       " 'visit_time_category_night',\n",
       " 'visit_time_category_workhour',\n",
       " 'device_category_desktop',\n",
       " 'device_category_mobile',\n",
       " 'device_category_tablet',\n",
       " 'device_brand_cat_Apple',\n",
       " 'device_brand_cat_Huawei',\n",
       " 'device_brand_cat_Samsung',\n",
       " 'device_brand_cat_Xiaomi',\n",
       " 'device_brand_cat_custom',\n",
       " 'device_brand_cat_other',\n",
       " 'day_category_holiday',\n",
       " 'day_category_weekend',\n",
       " 'day_category_workday',\n",
       " 'season_autumn',\n",
       " 'season_spring',\n",
       " 'season_summer',\n",
       " 'season_winter',\n",
       " 'screen_category_big_desktop',\n",
       " 'screen_category_big_mobile',\n",
       " 'screen_category_big_tablet',\n",
       " 'screen_category_medium_desktop',\n",
       " 'screen_category_medium_mobile',\n",
       " 'screen_category_medium_tablet',\n",
       " 'screen_category_small_desktop',\n",
       " 'screen_category_small_mobile',\n",
       " 'screen_category_small_tablet',\n",
       " 'device_os_cat_Android',\n",
       " 'device_os_cat_Linux',\n",
       " 'device_os_cat_Macintosh',\n",
       " 'device_os_cat_Windows',\n",
       " 'device_os_cat_iOS',\n",
       " 'device_os_cat_other',\n",
       " 'device_browser_cat_Chrome',\n",
       " 'device_browser_cat_Safari',\n",
       " 'device_browser_cat_YaBrowser',\n",
       " 'device_browser_cat_other',\n",
       " 'city_type_abandoned',\n",
       " 'city_type_capital',\n",
       " 'city_type_first',\n",
       " 'city_type_place',\n",
       " 'city_type_second',\n",
       " 'city_type_third']"
      ]
     },
     "execution_count": 154,
     "metadata": {},
     "output_type": "execute_result"
    }
   ],
   "source": [
    "cols = df_model.columns.to_list()\n",
    "cols"
   ]
  },
  {
   "cell_type": "markdown",
   "metadata": {},
   "source": [
    "## 5.1 Initialization and dataset splitting"
   ]
  },
  {
   "cell_type": "code",
   "execution_count": 155,
   "metadata": {},
   "outputs": [],
   "source": [
    "X = df_model.drop(columns=[\"event_action\"])\n",
    "y = df_model.event_action"
   ]
  },
  {
   "cell_type": "code",
   "execution_count": 156,
   "metadata": {},
   "outputs": [],
   "source": [
    "x_train, x_test, y_train, y_test = train_test_split(X, y, test_size=0.3, random_state=42)"
   ]
  },
  {
   "cell_type": "markdown",
   "metadata": {},
   "source": [
    "## 5.2 Models initialization with default parameters"
   ]
  },
  {
   "cell_type": "markdown",
   "metadata": {},
   "source": [
    "### 5.2.1 XGBClaccifier"
   ]
  },
  {
   "cell_type": "code",
   "execution_count": 157,
   "metadata": {},
   "outputs": [
    {
     "data": {
      "text/html": [
       "<style>#sk-container-id-1 {color: black;}#sk-container-id-1 pre{padding: 0;}#sk-container-id-1 div.sk-toggleable {background-color: white;}#sk-container-id-1 label.sk-toggleable__label {cursor: pointer;display: block;width: 100%;margin-bottom: 0;padding: 0.3em;box-sizing: border-box;text-align: center;}#sk-container-id-1 label.sk-toggleable__label-arrow:before {content: \"▸\";float: left;margin-right: 0.25em;color: #696969;}#sk-container-id-1 label.sk-toggleable__label-arrow:hover:before {color: black;}#sk-container-id-1 div.sk-estimator:hover label.sk-toggleable__label-arrow:before {color: black;}#sk-container-id-1 div.sk-toggleable__content {max-height: 0;max-width: 0;overflow: hidden;text-align: left;background-color: #f0f8ff;}#sk-container-id-1 div.sk-toggleable__content pre {margin: 0.2em;color: black;border-radius: 0.25em;background-color: #f0f8ff;}#sk-container-id-1 input.sk-toggleable__control:checked~div.sk-toggleable__content {max-height: 200px;max-width: 100%;overflow: auto;}#sk-container-id-1 input.sk-toggleable__control:checked~label.sk-toggleable__label-arrow:before {content: \"▾\";}#sk-container-id-1 div.sk-estimator input.sk-toggleable__control:checked~label.sk-toggleable__label {background-color: #d4ebff;}#sk-container-id-1 div.sk-label input.sk-toggleable__control:checked~label.sk-toggleable__label {background-color: #d4ebff;}#sk-container-id-1 input.sk-hidden--visually {border: 0;clip: rect(1px 1px 1px 1px);clip: rect(1px, 1px, 1px, 1px);height: 1px;margin: -1px;overflow: hidden;padding: 0;position: absolute;width: 1px;}#sk-container-id-1 div.sk-estimator {font-family: monospace;background-color: #f0f8ff;border: 1px dotted black;border-radius: 0.25em;box-sizing: border-box;margin-bottom: 0.5em;}#sk-container-id-1 div.sk-estimator:hover {background-color: #d4ebff;}#sk-container-id-1 div.sk-parallel-item::after {content: \"\";width: 100%;border-bottom: 1px solid gray;flex-grow: 1;}#sk-container-id-1 div.sk-label:hover label.sk-toggleable__label {background-color: #d4ebff;}#sk-container-id-1 div.sk-serial::before {content: \"\";position: absolute;border-left: 1px solid gray;box-sizing: border-box;top: 0;bottom: 0;left: 50%;z-index: 0;}#sk-container-id-1 div.sk-serial {display: flex;flex-direction: column;align-items: center;background-color: white;padding-right: 0.2em;padding-left: 0.2em;position: relative;}#sk-container-id-1 div.sk-item {position: relative;z-index: 1;}#sk-container-id-1 div.sk-parallel {display: flex;align-items: stretch;justify-content: center;background-color: white;position: relative;}#sk-container-id-1 div.sk-item::before, #sk-container-id-1 div.sk-parallel-item::before {content: \"\";position: absolute;border-left: 1px solid gray;box-sizing: border-box;top: 0;bottom: 0;left: 50%;z-index: -1;}#sk-container-id-1 div.sk-parallel-item {display: flex;flex-direction: column;z-index: 1;position: relative;background-color: white;}#sk-container-id-1 div.sk-parallel-item:first-child::after {align-self: flex-end;width: 50%;}#sk-container-id-1 div.sk-parallel-item:last-child::after {align-self: flex-start;width: 50%;}#sk-container-id-1 div.sk-parallel-item:only-child::after {width: 0;}#sk-container-id-1 div.sk-dashed-wrapped {border: 1px dashed gray;margin: 0 0.4em 0.5em 0.4em;box-sizing: border-box;padding-bottom: 0.4em;background-color: white;}#sk-container-id-1 div.sk-label label {font-family: monospace;font-weight: bold;display: inline-block;line-height: 1.2em;}#sk-container-id-1 div.sk-label-container {text-align: center;}#sk-container-id-1 div.sk-container {/* jupyter's `normalize.less` sets `[hidden] { display: none; }` but bootstrap.min.css set `[hidden] { display: none !important; }` so we also need the `!important` here to be able to override the default hidden behavior on the sphinx rendered scikit-learn.org. See: https://github.com/scikit-learn/scikit-learn/issues/21755 */display: inline-block !important;position: relative;}#sk-container-id-1 div.sk-text-repr-fallback {display: none;}</style><div id=\"sk-container-id-1\" class=\"sk-top-container\"><div class=\"sk-text-repr-fallback\"><pre>XGBClassifier(alpha=0.1, base_score=None, booster=None, callbacks=None,\n",
       "              colsample_bylevel=None, colsample_bynode=None,\n",
       "              colsample_bytree=0.8, device=None, early_stopping_rounds=None,\n",
       "              enable_categorical=False, eval_metric=&#x27;auc&#x27;, feature_types=None,\n",
       "              gamma=1, grow_policy=None, importance_type=None,\n",
       "              interaction_constraints=None, learning_rate=0.05, max_bin=None,\n",
       "              max_cat_threshold=None, max_cat_to_onehot=None,\n",
       "              max_delta_step=None, max_depth=8, max_leaves=None,\n",
       "              min_child_weight=5, missing=nan, monotone_constraints=None,\n",
       "              multi_strategy=None, n_estimators=300, n_jobs=None,\n",
       "              num_parallel_tree=None, ...)</pre><b>In a Jupyter environment, please rerun this cell to show the HTML representation or trust the notebook. <br />On GitHub, the HTML representation is unable to render, please try loading this page with nbviewer.org.</b></div><div class=\"sk-container\" hidden><div class=\"sk-item\"><div class=\"sk-estimator sk-toggleable\"><input class=\"sk-toggleable__control sk-hidden--visually\" id=\"sk-estimator-id-1\" type=\"checkbox\" checked><label for=\"sk-estimator-id-1\" class=\"sk-toggleable__label sk-toggleable__label-arrow\">XGBClassifier</label><div class=\"sk-toggleable__content\"><pre>XGBClassifier(alpha=0.1, base_score=None, booster=None, callbacks=None,\n",
       "              colsample_bylevel=None, colsample_bynode=None,\n",
       "              colsample_bytree=0.8, device=None, early_stopping_rounds=None,\n",
       "              enable_categorical=False, eval_metric=&#x27;auc&#x27;, feature_types=None,\n",
       "              gamma=1, grow_policy=None, importance_type=None,\n",
       "              interaction_constraints=None, learning_rate=0.05, max_bin=None,\n",
       "              max_cat_threshold=None, max_cat_to_onehot=None,\n",
       "              max_delta_step=None, max_depth=8, max_leaves=None,\n",
       "              min_child_weight=5, missing=nan, monotone_constraints=None,\n",
       "              multi_strategy=None, n_estimators=300, n_jobs=None,\n",
       "              num_parallel_tree=None, ...)</pre></div></div></div></div></div>"
      ],
      "text/plain": [
       "XGBClassifier(alpha=0.1, base_score=None, booster=None, callbacks=None,\n",
       "              colsample_bylevel=None, colsample_bynode=None,\n",
       "              colsample_bytree=0.8, device=None, early_stopping_rounds=None,\n",
       "              enable_categorical=False, eval_metric='auc', feature_types=None,\n",
       "              gamma=1, grow_policy=None, importance_type=None,\n",
       "              interaction_constraints=None, learning_rate=0.05, max_bin=None,\n",
       "              max_cat_threshold=None, max_cat_to_onehot=None,\n",
       "              max_delta_step=None, max_depth=8, max_leaves=None,\n",
       "              min_child_weight=5, missing=nan, monotone_constraints=None,\n",
       "              multi_strategy=None, n_estimators=300, n_jobs=None,\n",
       "              num_parallel_tree=None, ...)"
      ]
     },
     "execution_count": 157,
     "metadata": {},
     "output_type": "execute_result"
    }
   ],
   "source": [
    "xgb = XGBClassifier(\n",
    "    n_estimators=300,\n",
    "    learning_rate=0.05,\n",
    "    max_depth=8,\n",
    "    min_child_weight=5,\n",
    "    subsample=0.8,\n",
    "    colsample_bytree=0.8,\n",
    "    objective='binary:logistic',\n",
    "    reg_lambda=1,\n",
    "    gamma=1,\n",
    "    alpha=0.1,\n",
    "    tree_method='hist',\n",
    "    eval_metric='auc',\n",
    ")\n",
    "\n",
    "# 66,0177:\n",
    "#     n_estimators=300,\n",
    "#     learning_rate=0.05,\n",
    "#     max_depth=8,\n",
    "#     min_child_weight=5,\n",
    "#     subsample=0.8,\n",
    "#     colsample_bytree=0.8,\n",
    "#     objective='binary:logistic',\n",
    "#     gamma=1,\n",
    "#     alpha=0.1,\n",
    "#     tree_method='hist',\n",
    "#     eval_metric='auc',\n",
    "\n",
    "\n",
    "xgb.fit(x_train, y_train)"
   ]
  },
  {
   "cell_type": "code",
   "execution_count": 158,
   "metadata": {},
   "outputs": [
    {
     "data": {
      "text/plain": [
       "0.6601774308518131"
      ]
     },
     "execution_count": 158,
     "metadata": {},
     "output_type": "execute_result"
    }
   ],
   "source": [
    "roc_auc_score(y_test, xgb.predict_proba(x_test)[:, 1])"
   ]
  },
  {
   "cell_type": "code",
   "execution_count": 159,
   "metadata": {},
   "outputs": [],
   "source": [
    "# cv_score_xgb = cross_val_score(xgb, X, y, cv=5, n_jobs=-1, scoring='roc_auc')\n",
    "# print(cv_score_xgb.mean(), cv_score_xgb.std())"
   ]
  },
  {
   "cell_type": "markdown",
   "metadata": {},
   "source": [
    "### 5.2.2 LightGBM"
   ]
  },
  {
   "cell_type": "code",
   "execution_count": 160,
   "metadata": {},
   "outputs": [],
   "source": [
    "# lgb = LGBMClassifier(\n",
    "#     n_estimators=1000,\n",
    "#     learning_rate=0.05,\n",
    "#     max_depth=8,\n",
    "#     num_leaves=31,\n",
    "#     min_data_in_leaf=20,\n",
    "#     feature_fraction=0.8,\n",
    "#     bagging_fraction=0.7,\n",
    "#     bagging_freq=5,\n",
    "#     objective='binary',\n",
    "# )\n",
    "\n",
    "\n",
    "# lgb.fit(x_train, y_train)"
   ]
  },
  {
   "cell_type": "code",
   "execution_count": 161,
   "metadata": {},
   "outputs": [],
   "source": [
    "# roc_auc_score(y_test, lgb.predict_proba(x_test)[:, 1])"
   ]
  },
  {
   "cell_type": "code",
   "execution_count": 162,
   "metadata": {},
   "outputs": [],
   "source": [
    "# cv_score_lgb = cross_val_score(lgb, X, Y, cv=5, n_jobs=-1, scoring='roc_auc')\n",
    "# print(cv_score_lgb.mean(), cv_score_lgb.std())"
   ]
  },
  {
   "cell_type": "markdown",
   "metadata": {},
   "source": [
    "### 5.2.3 CatBoost"
   ]
  },
  {
   "cell_type": "code",
   "execution_count": 163,
   "metadata": {},
   "outputs": [],
   "source": [
    "# cgb = CatBoostClassifier(\n",
    "#     iterations=1000,\n",
    "#     learning_rate=0.05,\n",
    "#     depth=8,\n",
    "#     l2_leaf_reg=5,\n",
    "#     random_strength=2,\n",
    "#     bagging_temperature=0.8,\n",
    "#     loss_function='Logloss',\n",
    "#     eval_metric='AUC'\n",
    "# )\n",
    "\n",
    "\n",
    "# cgb.fit(x_train, y_train)"
   ]
  },
  {
   "cell_type": "code",
   "execution_count": 164,
   "metadata": {},
   "outputs": [],
   "source": [
    "# roc_auc_score(y_test, cgb.predict_proba(x_test)[:, 1])"
   ]
  },
  {
   "cell_type": "code",
   "execution_count": 165,
   "metadata": {},
   "outputs": [],
   "source": [
    "# cv_score_cgb = cross_val_score(cgb, X, Y, cv=5, n_jobs=-1, scoring='roc_auc')\n",
    "# print(cv_score_cgb.mean(), cv_score_cgb.std())"
   ]
  },
  {
   "cell_type": "markdown",
   "metadata": {},
   "source": [
    "### 5.2.4 GradientBoosting"
   ]
  },
  {
   "cell_type": "code",
   "execution_count": 166,
   "metadata": {},
   "outputs": [],
   "source": [
    "# gb_upd = GradientBoostingClassifier(\n",
    "#     n_estimators=185,\n",
    "#     learning_rate=0.34,\n",
    "#     max_depth=5,\n",
    "#     min_samples_split=3,\n",
    "#     min_samples_leaf=2,\n",
    "#     subsample=.8,\n",
    "#     max_features='sqrt',\n",
    "#     random_state=42\n",
    "#     # **best_params, random_state=42\n",
    "#     )\n",
    "# gb_upd.fit(x_train, y_train)\n",
    "\n",
    "# Параметры для 65,334\n",
    "    # n_estimators=185,\n",
    "    # learning_rate=0.34,\n",
    "    # max_depth=5,\n",
    "    # min_samples_split=3,\n",
    "    # min_samples_leaf=2,\n",
    "    # subsample=0.8,\n",
    "    # max_features='sqrt',\n",
    "    # random_state=42\n"
   ]
  },
  {
   "cell_type": "code",
   "execution_count": 167,
   "metadata": {},
   "outputs": [],
   "source": [
    "# roc_auc_score(y_test, gb_upd.predict_proba(x_test)[:, 1])"
   ]
  },
  {
   "cell_type": "code",
   "execution_count": 168,
   "metadata": {},
   "outputs": [],
   "source": [
    "# cv_score_gb = cross_val_score(gb_upd, X, Y, cv=5, n_jobs=-1, scoring='roc_auc')\n",
    "# print(cv_score_gb.mean(), cv_score_gb.std())\n"
   ]
  },
  {
   "cell_type": "code",
   "execution_count": 169,
   "metadata": {},
   "outputs": [],
   "source": [
    "# cv_score_gb"
   ]
  },
  {
   "cell_type": "markdown",
   "metadata": {},
   "source": [
    "### 5.3 Default models' accuracy score"
   ]
  },
  {
   "cell_type": "code",
   "execution_count": 170,
   "metadata": {},
   "outputs": [],
   "source": [
    "# roc_auc_score(y_test, logreg_upd.predict_proba(X)[:, 1])"
   ]
  },
  {
   "cell_type": "code",
   "execution_count": 171,
   "metadata": {},
   "outputs": [],
   "source": [
    "# roc_auc_score(y_test, rf_upd.predict_proba(x_test)[:, 1])"
   ]
  },
  {
   "cell_type": "code",
   "execution_count": 172,
   "metadata": {},
   "outputs": [],
   "source": [
    "# roc_auc_score(y_test, gb_upd.predict_proba(x_test)[:, 1])"
   ]
  },
  {
   "cell_type": "code",
   "execution_count": 173,
   "metadata": {},
   "outputs": [],
   "source": [
    "# cv_score_gb = cross_val_score(gb_upd, X, Y, cv=5, n_jobs=-1, scoring='roc_auc')\n",
    "# print(cv_score_gb.mean(), cv_score_gb.std())\n"
   ]
  },
  {
   "cell_type": "code",
   "execution_count": 174,
   "metadata": {},
   "outputs": [],
   "source": [
    "# cv = cv_score_rf.tolist()\n",
    "# cv"
   ]
  },
  {
   "cell_type": "code",
   "execution_count": 175,
   "metadata": {},
   "outputs": [],
   "source": [
    "# cross_validate(rf_upd, X, Y, cv=5, n_jobs=-1, scoring='roc_auc')"
   ]
  },
  {
   "cell_type": "markdown",
   "metadata": {},
   "source": [
    "| version | value |\n",
    "|----------|----------|\n",
    "| april | 0.6294236932989987 |\n",
    "| date&time | 0.6385665035825867 |\n",
    "| date&time corrected season | 0.6368971213627024 |\n",
    "| screen res, dev brand, dev os | 0.6397631389436769 |\n",
    "| dev_br_cat, dev_os_cat, geo_rus | 0.6374147085777188 |\n",
    "| -geo_rus, dev_browser_cat | 0.6432028498326705 |\n",
    "| don't remember | 0.6424442050896509 |\n",
    "| USSR | 0.6429456076315219 |\n",
    "| city_type w/ error | 0.6431313276906813 |\n",
    "| city_type & upgraded GBC | 0.6474265163352543 |\n",
    "| city_type by 0,1,2 | 0.6469685224145244 |\n",
    "| city_type + 'abandoned'| 0.648259935681126 |\n",
    "| upgraded GBC | 0.6520331385846819 |\n",
    "\n",
    "\n",
    "\n",
    "\n"
   ]
  },
  {
   "cell_type": "code",
   "execution_count": null,
   "metadata": {},
   "outputs": [],
   "source": []
  }
 ],
 "metadata": {
  "kernelspec": {
   "display_name": "base",
   "language": "python",
   "name": "python3"
  },
  "language_info": {
   "codemirror_mode": {
    "name": "ipython",
    "version": 3
   },
   "file_extension": ".py",
   "mimetype": "text/x-python",
   "name": "python",
   "nbconvert_exporter": "python",
   "pygments_lexer": "ipython3",
   "version": "3.11.5"
  }
 },
 "nbformat": 4,
 "nbformat_minor": 2
}
